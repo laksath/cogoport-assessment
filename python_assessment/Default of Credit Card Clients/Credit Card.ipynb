{
 "cells": [
  {
   "cell_type": "code",
   "execution_count": 145,
   "id": "a36a446c",
   "metadata": {},
   "outputs": [],
   "source": [
    "import numpy as np\n",
    "import pandas as pd\n",
    "import seaborn as sns\n",
    "import matplotlib.pyplot as plt\n",
    "from sklearn.model_selection import train_test_split\n",
    "sns.set_theme()"
   ]
  },
  {
   "cell_type": "code",
   "execution_count": 31,
   "id": "aabd4cfc",
   "metadata": {},
   "outputs": [
    {
     "data": {
      "text/html": [
       "<div>\n",
       "<style scoped>\n",
       "    .dataframe tbody tr th:only-of-type {\n",
       "        vertical-align: middle;\n",
       "    }\n",
       "\n",
       "    .dataframe tbody tr th {\n",
       "        vertical-align: top;\n",
       "    }\n",
       "\n",
       "    .dataframe thead th {\n",
       "        text-align: right;\n",
       "    }\n",
       "</style>\n",
       "<table border=\"1\" class=\"dataframe\">\n",
       "  <thead>\n",
       "    <tr style=\"text-align: right;\">\n",
       "      <th></th>\n",
       "      <th>LIMIT_BAL</th>\n",
       "      <th>SEX</th>\n",
       "      <th>EDUCATION</th>\n",
       "      <th>MARRIAGE</th>\n",
       "      <th>AGE</th>\n",
       "      <th>PAY_0</th>\n",
       "      <th>PAY_2</th>\n",
       "      <th>PAY_3</th>\n",
       "      <th>PAY_4</th>\n",
       "      <th>PAY_5</th>\n",
       "      <th>...</th>\n",
       "      <th>BILL_AMT4</th>\n",
       "      <th>BILL_AMT5</th>\n",
       "      <th>BILL_AMT6</th>\n",
       "      <th>PAY_AMT1</th>\n",
       "      <th>PAY_AMT2</th>\n",
       "      <th>PAY_AMT3</th>\n",
       "      <th>PAY_AMT4</th>\n",
       "      <th>PAY_AMT5</th>\n",
       "      <th>PAY_AMT6</th>\n",
       "      <th>default payment next month</th>\n",
       "    </tr>\n",
       "  </thead>\n",
       "  <tbody>\n",
       "    <tr>\n",
       "      <th>1</th>\n",
       "      <td>20000</td>\n",
       "      <td>2</td>\n",
       "      <td>2</td>\n",
       "      <td>1</td>\n",
       "      <td>24</td>\n",
       "      <td>2</td>\n",
       "      <td>2</td>\n",
       "      <td>-1</td>\n",
       "      <td>-1</td>\n",
       "      <td>-2</td>\n",
       "      <td>...</td>\n",
       "      <td>0</td>\n",
       "      <td>0</td>\n",
       "      <td>0</td>\n",
       "      <td>0</td>\n",
       "      <td>689</td>\n",
       "      <td>0</td>\n",
       "      <td>0</td>\n",
       "      <td>0</td>\n",
       "      <td>0</td>\n",
       "      <td>1</td>\n",
       "    </tr>\n",
       "    <tr>\n",
       "      <th>2</th>\n",
       "      <td>120000</td>\n",
       "      <td>2</td>\n",
       "      <td>2</td>\n",
       "      <td>2</td>\n",
       "      <td>26</td>\n",
       "      <td>-1</td>\n",
       "      <td>2</td>\n",
       "      <td>0</td>\n",
       "      <td>0</td>\n",
       "      <td>0</td>\n",
       "      <td>...</td>\n",
       "      <td>3272</td>\n",
       "      <td>3455</td>\n",
       "      <td>3261</td>\n",
       "      <td>0</td>\n",
       "      <td>1000</td>\n",
       "      <td>1000</td>\n",
       "      <td>1000</td>\n",
       "      <td>0</td>\n",
       "      <td>2000</td>\n",
       "      <td>1</td>\n",
       "    </tr>\n",
       "    <tr>\n",
       "      <th>3</th>\n",
       "      <td>90000</td>\n",
       "      <td>2</td>\n",
       "      <td>2</td>\n",
       "      <td>2</td>\n",
       "      <td>34</td>\n",
       "      <td>0</td>\n",
       "      <td>0</td>\n",
       "      <td>0</td>\n",
       "      <td>0</td>\n",
       "      <td>0</td>\n",
       "      <td>...</td>\n",
       "      <td>14331</td>\n",
       "      <td>14948</td>\n",
       "      <td>15549</td>\n",
       "      <td>1518</td>\n",
       "      <td>1500</td>\n",
       "      <td>1000</td>\n",
       "      <td>1000</td>\n",
       "      <td>1000</td>\n",
       "      <td>5000</td>\n",
       "      <td>0</td>\n",
       "    </tr>\n",
       "    <tr>\n",
       "      <th>4</th>\n",
       "      <td>50000</td>\n",
       "      <td>2</td>\n",
       "      <td>2</td>\n",
       "      <td>1</td>\n",
       "      <td>37</td>\n",
       "      <td>0</td>\n",
       "      <td>0</td>\n",
       "      <td>0</td>\n",
       "      <td>0</td>\n",
       "      <td>0</td>\n",
       "      <td>...</td>\n",
       "      <td>28314</td>\n",
       "      <td>28959</td>\n",
       "      <td>29547</td>\n",
       "      <td>2000</td>\n",
       "      <td>2019</td>\n",
       "      <td>1200</td>\n",
       "      <td>1100</td>\n",
       "      <td>1069</td>\n",
       "      <td>1000</td>\n",
       "      <td>0</td>\n",
       "    </tr>\n",
       "    <tr>\n",
       "      <th>5</th>\n",
       "      <td>50000</td>\n",
       "      <td>1</td>\n",
       "      <td>2</td>\n",
       "      <td>1</td>\n",
       "      <td>57</td>\n",
       "      <td>-1</td>\n",
       "      <td>0</td>\n",
       "      <td>-1</td>\n",
       "      <td>0</td>\n",
       "      <td>0</td>\n",
       "      <td>...</td>\n",
       "      <td>20940</td>\n",
       "      <td>19146</td>\n",
       "      <td>19131</td>\n",
       "      <td>2000</td>\n",
       "      <td>36681</td>\n",
       "      <td>10000</td>\n",
       "      <td>9000</td>\n",
       "      <td>689</td>\n",
       "      <td>679</td>\n",
       "      <td>0</td>\n",
       "    </tr>\n",
       "  </tbody>\n",
       "</table>\n",
       "<p>5 rows × 24 columns</p>\n",
       "</div>"
      ],
      "text/plain": [
       "0 LIMIT_BAL SEX EDUCATION MARRIAGE AGE PAY_0 PAY_2 PAY_3 PAY_4 PAY_5  ...  \\\n",
       "1     20000   2         2        1  24     2     2    -1    -1    -2  ...   \n",
       "2    120000   2         2        2  26    -1     2     0     0     0  ...   \n",
       "3     90000   2         2        2  34     0     0     0     0     0  ...   \n",
       "4     50000   2         2        1  37     0     0     0     0     0  ...   \n",
       "5     50000   1         2        1  57    -1     0    -1     0     0  ...   \n",
       "\n",
       "0 BILL_AMT4 BILL_AMT5 BILL_AMT6 PAY_AMT1 PAY_AMT2 PAY_AMT3 PAY_AMT4 PAY_AMT5  \\\n",
       "1         0         0         0        0      689        0        0        0   \n",
       "2      3272      3455      3261        0     1000     1000     1000        0   \n",
       "3     14331     14948     15549     1518     1500     1000     1000     1000   \n",
       "4     28314     28959     29547     2000     2019     1200     1100     1069   \n",
       "5     20940     19146     19131     2000    36681    10000     9000      689   \n",
       "\n",
       "0 PAY_AMT6 default payment next month  \n",
       "1        0                          1  \n",
       "2     2000                          1  \n",
       "3     5000                          0  \n",
       "4     1000                          0  \n",
       "5      679                          0  \n",
       "\n",
       "[5 rows x 24 columns]"
      ]
     },
     "execution_count": 31,
     "metadata": {},
     "output_type": "execute_result"
    }
   ],
   "source": [
    "df = pd.read_csv('dataset/default of credit card clients.csv')\n",
    "df.columns = df.iloc[0]\n",
    "df = df[1:].drop(labels=['ID'],axis=1)\n",
    "df.head()"
   ]
  },
  {
   "cell_type": "code",
   "execution_count": 38,
   "id": "34babe70",
   "metadata": {},
   "outputs": [
    {
     "name": "stdout",
     "output_type": "stream",
     "text": [
      "<class 'pandas.core.frame.DataFrame'>\n",
      "RangeIndex: 30000 entries, 1 to 30000\n",
      "Data columns (total 24 columns):\n",
      " #   Column                      Non-Null Count  Dtype \n",
      "---  ------                      --------------  ----- \n",
      " 0   LIMIT_BAL                   30000 non-null  object\n",
      " 1   SEX                         30000 non-null  object\n",
      " 2   EDUCATION                   30000 non-null  object\n",
      " 3   MARRIAGE                    30000 non-null  object\n",
      " 4   AGE                         30000 non-null  object\n",
      " 5   PAY_0                       30000 non-null  object\n",
      " 6   PAY_2                       30000 non-null  object\n",
      " 7   PAY_3                       30000 non-null  object\n",
      " 8   PAY_4                       30000 non-null  object\n",
      " 9   PAY_5                       30000 non-null  object\n",
      " 10  PAY_6                       30000 non-null  object\n",
      " 11  BILL_AMT1                   30000 non-null  object\n",
      " 12  BILL_AMT2                   30000 non-null  object\n",
      " 13  BILL_AMT3                   30000 non-null  object\n",
      " 14  BILL_AMT4                   30000 non-null  object\n",
      " 15  BILL_AMT5                   30000 non-null  object\n",
      " 16  BILL_AMT6                   30000 non-null  object\n",
      " 17  PAY_AMT1                    30000 non-null  object\n",
      " 18  PAY_AMT2                    30000 non-null  object\n",
      " 19  PAY_AMT3                    30000 non-null  object\n",
      " 20  PAY_AMT4                    30000 non-null  object\n",
      " 21  PAY_AMT5                    30000 non-null  object\n",
      " 22  PAY_AMT6                    30000 non-null  object\n",
      " 23  default payment next month  30000 non-null  object\n",
      "dtypes: object(24)\n",
      "memory usage: 5.5+ MB\n"
     ]
    }
   ],
   "source": [
    "df.info()"
   ]
  },
  {
   "cell_type": "code",
   "execution_count": 39,
   "id": "640bcf71",
   "metadata": {},
   "outputs": [
    {
     "name": "stdout",
     "output_type": "stream",
     "text": [
      "LIMIT_BAL : 81\n",
      "SEX : 2\n",
      "EDUCATION : 7\n",
      "MARRIAGE : 4\n",
      "AGE : 56\n",
      "PAY_0 : 11\n",
      "PAY_2 : 11\n",
      "PAY_3 : 11\n",
      "PAY_4 : 11\n",
      "PAY_5 : 10\n",
      "PAY_6 : 10\n",
      "BILL_AMT1 : 22723\n",
      "BILL_AMT2 : 22346\n",
      "BILL_AMT3 : 22026\n",
      "BILL_AMT4 : 21548\n",
      "BILL_AMT5 : 21010\n",
      "BILL_AMT6 : 20604\n",
      "PAY_AMT1 : 7943\n",
      "PAY_AMT2 : 7899\n",
      "PAY_AMT3 : 7518\n",
      "PAY_AMT4 : 6937\n",
      "PAY_AMT5 : 6897\n",
      "PAY_AMT6 : 6939\n",
      "default payment next month : 2\n"
     ]
    }
   ],
   "source": [
    "for col in df.columns:\n",
    "    print(f'{col} : {len(set(df[col]))}')"
   ]
  },
  {
   "cell_type": "code",
   "execution_count": 47,
   "id": "117b3359",
   "metadata": {},
   "outputs": [
    {
     "name": "stdout",
     "output_type": "stream",
     "text": [
      "<class 'pandas.core.frame.DataFrame'>\n",
      "RangeIndex: 30000 entries, 1 to 30000\n",
      "Data columns (total 24 columns):\n",
      " #   Column                      Non-Null Count  Dtype  \n",
      "---  ------                      --------------  -----  \n",
      " 0   LIMIT_BAL                   30000 non-null  float64\n",
      " 1   SEX                         30000 non-null  int64  \n",
      " 2   EDUCATION                   30000 non-null  int64  \n",
      " 3   MARRIAGE                    30000 non-null  int64  \n",
      " 4   AGE                         30000 non-null  int64  \n",
      " 5   PAY_0                       30000 non-null  int64  \n",
      " 6   PAY_2                       30000 non-null  int64  \n",
      " 7   PAY_3                       30000 non-null  int64  \n",
      " 8   PAY_4                       30000 non-null  int64  \n",
      " 9   PAY_5                       30000 non-null  int64  \n",
      " 10  PAY_6                       30000 non-null  int64  \n",
      " 11  BILL_AMT1                   30000 non-null  float64\n",
      " 12  BILL_AMT2                   30000 non-null  float64\n",
      " 13  BILL_AMT3                   30000 non-null  float64\n",
      " 14  BILL_AMT4                   30000 non-null  float64\n",
      " 15  BILL_AMT5                   30000 non-null  float64\n",
      " 16  BILL_AMT6                   30000 non-null  float64\n",
      " 17  PAY_AMT1                    30000 non-null  float64\n",
      " 18  PAY_AMT2                    30000 non-null  float64\n",
      " 19  PAY_AMT3                    30000 non-null  float64\n",
      " 20  PAY_AMT4                    30000 non-null  float64\n",
      " 21  PAY_AMT5                    30000 non-null  float64\n",
      " 22  PAY_AMT6                    30000 non-null  float64\n",
      " 23  default payment next month  30000 non-null  int64  \n",
      "dtypes: float64(13), int64(11)\n",
      "memory usage: 5.5 MB\n"
     ]
    }
   ],
   "source": [
    "df = df.astype(np.float64)\n",
    "# df.iloc[:,1:11] = df.iloc[:,1:11].astype(np.int64)\n",
    "for i in range(10):\n",
    "    df[df.columns[i+1]] = df[df.columns[i+1]].astype(np.int64)\n",
    "df[df.columns[-1]] = df[df.columns[-1]].astype(np.int64)\n",
    "df.info()"
   ]
  },
  {
   "cell_type": "code",
   "execution_count": 14,
   "id": "7fd96038",
   "metadata": {
    "scrolled": true
   },
   "outputs": [
    {
     "name": "stdout",
     "output_type": "stream",
     "text": [
      "The DataFrame does not contain any NaN values.\n"
     ]
    }
   ],
   "source": [
    "has_nan = df.isna().any().any()\n",
    "if has_nan:\n",
    "    print(\"The DataFrame contains NaN values.\")\n",
    "else:\n",
    "    print(\"The DataFrame does not contain any NaN values.\")"
   ]
  },
  {
   "cell_type": "code",
   "execution_count": 17,
   "id": "358ed59d",
   "metadata": {},
   "outputs": [],
   "source": [
    "# Verifying whether there are columns containing only one unique value, as they will have no impact on our analysis."
   ]
  },
  {
   "cell_type": "code",
   "execution_count": 19,
   "id": "b67fa9d5",
   "metadata": {},
   "outputs": [
    {
     "data": {
      "text/plain": [
       "25"
      ]
     },
     "execution_count": 19,
     "metadata": {},
     "output_type": "execute_result"
    }
   ],
   "source": [
    "len(df.nunique(dropna=True))"
   ]
  },
  {
   "cell_type": "code",
   "execution_count": 49,
   "id": "b25586b1",
   "metadata": {},
   "outputs": [
    {
     "data": {
      "text/html": [
       "<div>\n",
       "<style scoped>\n",
       "    .dataframe tbody tr th:only-of-type {\n",
       "        vertical-align: middle;\n",
       "    }\n",
       "\n",
       "    .dataframe tbody tr th {\n",
       "        vertical-align: top;\n",
       "    }\n",
       "\n",
       "    .dataframe thead th {\n",
       "        text-align: right;\n",
       "    }\n",
       "</style>\n",
       "<table border=\"1\" class=\"dataframe\">\n",
       "  <thead>\n",
       "    <tr style=\"text-align: right;\">\n",
       "      <th></th>\n",
       "      <th>LIMIT_BAL</th>\n",
       "      <th>SEX</th>\n",
       "      <th>EDUCATION</th>\n",
       "      <th>MARRIAGE</th>\n",
       "      <th>AGE</th>\n",
       "      <th>PAY_0</th>\n",
       "      <th>PAY_2</th>\n",
       "      <th>PAY_3</th>\n",
       "      <th>PAY_4</th>\n",
       "      <th>PAY_5</th>\n",
       "      <th>...</th>\n",
       "      <th>BILL_AMT4</th>\n",
       "      <th>BILL_AMT5</th>\n",
       "      <th>BILL_AMT6</th>\n",
       "      <th>PAY_AMT1</th>\n",
       "      <th>PAY_AMT2</th>\n",
       "      <th>PAY_AMT3</th>\n",
       "      <th>PAY_AMT4</th>\n",
       "      <th>PAY_AMT5</th>\n",
       "      <th>PAY_AMT6</th>\n",
       "      <th>default payment next month</th>\n",
       "    </tr>\n",
       "  </thead>\n",
       "  <tbody>\n",
       "    <tr>\n",
       "      <th>count</th>\n",
       "      <td>30000.000000</td>\n",
       "      <td>30000.000000</td>\n",
       "      <td>30000.000000</td>\n",
       "      <td>30000.000000</td>\n",
       "      <td>30000.000000</td>\n",
       "      <td>30000.000000</td>\n",
       "      <td>30000.000000</td>\n",
       "      <td>30000.000000</td>\n",
       "      <td>30000.000000</td>\n",
       "      <td>30000.000000</td>\n",
       "      <td>...</td>\n",
       "      <td>30000.000000</td>\n",
       "      <td>30000.000000</td>\n",
       "      <td>30000.000000</td>\n",
       "      <td>30000.000000</td>\n",
       "      <td>3.000000e+04</td>\n",
       "      <td>30000.00000</td>\n",
       "      <td>30000.000000</td>\n",
       "      <td>30000.000000</td>\n",
       "      <td>30000.000000</td>\n",
       "      <td>30000.000000</td>\n",
       "    </tr>\n",
       "    <tr>\n",
       "      <th>mean</th>\n",
       "      <td>167484.322667</td>\n",
       "      <td>1.603733</td>\n",
       "      <td>1.853133</td>\n",
       "      <td>1.551867</td>\n",
       "      <td>35.485500</td>\n",
       "      <td>-0.016700</td>\n",
       "      <td>-0.133767</td>\n",
       "      <td>-0.166200</td>\n",
       "      <td>-0.220667</td>\n",
       "      <td>-0.266200</td>\n",
       "      <td>...</td>\n",
       "      <td>43262.948967</td>\n",
       "      <td>40311.400967</td>\n",
       "      <td>38871.760400</td>\n",
       "      <td>5663.580500</td>\n",
       "      <td>5.921163e+03</td>\n",
       "      <td>5225.68150</td>\n",
       "      <td>4826.076867</td>\n",
       "      <td>4799.387633</td>\n",
       "      <td>5215.502567</td>\n",
       "      <td>0.221200</td>\n",
       "    </tr>\n",
       "    <tr>\n",
       "      <th>std</th>\n",
       "      <td>129747.661567</td>\n",
       "      <td>0.489129</td>\n",
       "      <td>0.790349</td>\n",
       "      <td>0.521970</td>\n",
       "      <td>9.217904</td>\n",
       "      <td>1.123802</td>\n",
       "      <td>1.197186</td>\n",
       "      <td>1.196868</td>\n",
       "      <td>1.169139</td>\n",
       "      <td>1.133187</td>\n",
       "      <td>...</td>\n",
       "      <td>64332.856134</td>\n",
       "      <td>60797.155770</td>\n",
       "      <td>59554.107537</td>\n",
       "      <td>16563.280354</td>\n",
       "      <td>2.304087e+04</td>\n",
       "      <td>17606.96147</td>\n",
       "      <td>15666.159744</td>\n",
       "      <td>15278.305679</td>\n",
       "      <td>17777.465775</td>\n",
       "      <td>0.415062</td>\n",
       "    </tr>\n",
       "    <tr>\n",
       "      <th>min</th>\n",
       "      <td>10000.000000</td>\n",
       "      <td>1.000000</td>\n",
       "      <td>0.000000</td>\n",
       "      <td>0.000000</td>\n",
       "      <td>21.000000</td>\n",
       "      <td>-2.000000</td>\n",
       "      <td>-2.000000</td>\n",
       "      <td>-2.000000</td>\n",
       "      <td>-2.000000</td>\n",
       "      <td>-2.000000</td>\n",
       "      <td>...</td>\n",
       "      <td>-170000.000000</td>\n",
       "      <td>-81334.000000</td>\n",
       "      <td>-339603.000000</td>\n",
       "      <td>0.000000</td>\n",
       "      <td>0.000000e+00</td>\n",
       "      <td>0.00000</td>\n",
       "      <td>0.000000</td>\n",
       "      <td>0.000000</td>\n",
       "      <td>0.000000</td>\n",
       "      <td>0.000000</td>\n",
       "    </tr>\n",
       "    <tr>\n",
       "      <th>25%</th>\n",
       "      <td>50000.000000</td>\n",
       "      <td>1.000000</td>\n",
       "      <td>1.000000</td>\n",
       "      <td>1.000000</td>\n",
       "      <td>28.000000</td>\n",
       "      <td>-1.000000</td>\n",
       "      <td>-1.000000</td>\n",
       "      <td>-1.000000</td>\n",
       "      <td>-1.000000</td>\n",
       "      <td>-1.000000</td>\n",
       "      <td>...</td>\n",
       "      <td>2326.750000</td>\n",
       "      <td>1763.000000</td>\n",
       "      <td>1256.000000</td>\n",
       "      <td>1000.000000</td>\n",
       "      <td>8.330000e+02</td>\n",
       "      <td>390.00000</td>\n",
       "      <td>296.000000</td>\n",
       "      <td>252.500000</td>\n",
       "      <td>117.750000</td>\n",
       "      <td>0.000000</td>\n",
       "    </tr>\n",
       "    <tr>\n",
       "      <th>50%</th>\n",
       "      <td>140000.000000</td>\n",
       "      <td>2.000000</td>\n",
       "      <td>2.000000</td>\n",
       "      <td>2.000000</td>\n",
       "      <td>34.000000</td>\n",
       "      <td>0.000000</td>\n",
       "      <td>0.000000</td>\n",
       "      <td>0.000000</td>\n",
       "      <td>0.000000</td>\n",
       "      <td>0.000000</td>\n",
       "      <td>...</td>\n",
       "      <td>19052.000000</td>\n",
       "      <td>18104.500000</td>\n",
       "      <td>17071.000000</td>\n",
       "      <td>2100.000000</td>\n",
       "      <td>2.009000e+03</td>\n",
       "      <td>1800.00000</td>\n",
       "      <td>1500.000000</td>\n",
       "      <td>1500.000000</td>\n",
       "      <td>1500.000000</td>\n",
       "      <td>0.000000</td>\n",
       "    </tr>\n",
       "    <tr>\n",
       "      <th>75%</th>\n",
       "      <td>240000.000000</td>\n",
       "      <td>2.000000</td>\n",
       "      <td>2.000000</td>\n",
       "      <td>2.000000</td>\n",
       "      <td>41.000000</td>\n",
       "      <td>0.000000</td>\n",
       "      <td>0.000000</td>\n",
       "      <td>0.000000</td>\n",
       "      <td>0.000000</td>\n",
       "      <td>0.000000</td>\n",
       "      <td>...</td>\n",
       "      <td>54506.000000</td>\n",
       "      <td>50190.500000</td>\n",
       "      <td>49198.250000</td>\n",
       "      <td>5006.000000</td>\n",
       "      <td>5.000000e+03</td>\n",
       "      <td>4505.00000</td>\n",
       "      <td>4013.250000</td>\n",
       "      <td>4031.500000</td>\n",
       "      <td>4000.000000</td>\n",
       "      <td>0.000000</td>\n",
       "    </tr>\n",
       "    <tr>\n",
       "      <th>max</th>\n",
       "      <td>1000000.000000</td>\n",
       "      <td>2.000000</td>\n",
       "      <td>6.000000</td>\n",
       "      <td>3.000000</td>\n",
       "      <td>79.000000</td>\n",
       "      <td>8.000000</td>\n",
       "      <td>8.000000</td>\n",
       "      <td>8.000000</td>\n",
       "      <td>8.000000</td>\n",
       "      <td>8.000000</td>\n",
       "      <td>...</td>\n",
       "      <td>891586.000000</td>\n",
       "      <td>927171.000000</td>\n",
       "      <td>961664.000000</td>\n",
       "      <td>873552.000000</td>\n",
       "      <td>1.684259e+06</td>\n",
       "      <td>896040.00000</td>\n",
       "      <td>621000.000000</td>\n",
       "      <td>426529.000000</td>\n",
       "      <td>528666.000000</td>\n",
       "      <td>1.000000</td>\n",
       "    </tr>\n",
       "  </tbody>\n",
       "</table>\n",
       "<p>8 rows × 24 columns</p>\n",
       "</div>"
      ],
      "text/plain": [
       "0           LIMIT_BAL           SEX     EDUCATION      MARRIAGE           AGE  \\\n",
       "count    30000.000000  30000.000000  30000.000000  30000.000000  30000.000000   \n",
       "mean    167484.322667      1.603733      1.853133      1.551867     35.485500   \n",
       "std     129747.661567      0.489129      0.790349      0.521970      9.217904   \n",
       "min      10000.000000      1.000000      0.000000      0.000000     21.000000   \n",
       "25%      50000.000000      1.000000      1.000000      1.000000     28.000000   \n",
       "50%     140000.000000      2.000000      2.000000      2.000000     34.000000   \n",
       "75%     240000.000000      2.000000      2.000000      2.000000     41.000000   \n",
       "max    1000000.000000      2.000000      6.000000      3.000000     79.000000   \n",
       "\n",
       "0             PAY_0         PAY_2         PAY_3         PAY_4         PAY_5  \\\n",
       "count  30000.000000  30000.000000  30000.000000  30000.000000  30000.000000   \n",
       "mean      -0.016700     -0.133767     -0.166200     -0.220667     -0.266200   \n",
       "std        1.123802      1.197186      1.196868      1.169139      1.133187   \n",
       "min       -2.000000     -2.000000     -2.000000     -2.000000     -2.000000   \n",
       "25%       -1.000000     -1.000000     -1.000000     -1.000000     -1.000000   \n",
       "50%        0.000000      0.000000      0.000000      0.000000      0.000000   \n",
       "75%        0.000000      0.000000      0.000000      0.000000      0.000000   \n",
       "max        8.000000      8.000000      8.000000      8.000000      8.000000   \n",
       "\n",
       "0      ...      BILL_AMT4      BILL_AMT5      BILL_AMT6       PAY_AMT1  \\\n",
       "count  ...   30000.000000   30000.000000   30000.000000   30000.000000   \n",
       "mean   ...   43262.948967   40311.400967   38871.760400    5663.580500   \n",
       "std    ...   64332.856134   60797.155770   59554.107537   16563.280354   \n",
       "min    ... -170000.000000  -81334.000000 -339603.000000       0.000000   \n",
       "25%    ...    2326.750000    1763.000000    1256.000000    1000.000000   \n",
       "50%    ...   19052.000000   18104.500000   17071.000000    2100.000000   \n",
       "75%    ...   54506.000000   50190.500000   49198.250000    5006.000000   \n",
       "max    ...  891586.000000  927171.000000  961664.000000  873552.000000   \n",
       "\n",
       "0          PAY_AMT2      PAY_AMT3       PAY_AMT4       PAY_AMT5  \\\n",
       "count  3.000000e+04   30000.00000   30000.000000   30000.000000   \n",
       "mean   5.921163e+03    5225.68150    4826.076867    4799.387633   \n",
       "std    2.304087e+04   17606.96147   15666.159744   15278.305679   \n",
       "min    0.000000e+00       0.00000       0.000000       0.000000   \n",
       "25%    8.330000e+02     390.00000     296.000000     252.500000   \n",
       "50%    2.009000e+03    1800.00000    1500.000000    1500.000000   \n",
       "75%    5.000000e+03    4505.00000    4013.250000    4031.500000   \n",
       "max    1.684259e+06  896040.00000  621000.000000  426529.000000   \n",
       "\n",
       "0           PAY_AMT6  default payment next month  \n",
       "count   30000.000000                30000.000000  \n",
       "mean     5215.502567                    0.221200  \n",
       "std     17777.465775                    0.415062  \n",
       "min         0.000000                    0.000000  \n",
       "25%       117.750000                    0.000000  \n",
       "50%      1500.000000                    0.000000  \n",
       "75%      4000.000000                    0.000000  \n",
       "max    528666.000000                    1.000000  \n",
       "\n",
       "[8 rows x 24 columns]"
      ]
     },
     "execution_count": 49,
     "metadata": {},
     "output_type": "execute_result"
    }
   ],
   "source": [
    "df.describe()"
   ]
  },
  {
   "cell_type": "code",
   "execution_count": 51,
   "id": "ec378a27",
   "metadata": {},
   "outputs": [
    {
     "data": {
      "text/html": [
       "<div>\n",
       "<style scoped>\n",
       "    .dataframe tbody tr th:only-of-type {\n",
       "        vertical-align: middle;\n",
       "    }\n",
       "\n",
       "    .dataframe tbody tr th {\n",
       "        vertical-align: top;\n",
       "    }\n",
       "\n",
       "    .dataframe thead th {\n",
       "        text-align: right;\n",
       "    }\n",
       "</style>\n",
       "<table border=\"1\" class=\"dataframe\">\n",
       "  <thead>\n",
       "    <tr style=\"text-align: right;\">\n",
       "      <th></th>\n",
       "      <th>SEX</th>\n",
       "      <th>EDUCATION</th>\n",
       "      <th>MARRIAGE</th>\n",
       "    </tr>\n",
       "  </thead>\n",
       "  <tbody>\n",
       "    <tr>\n",
       "      <th>count</th>\n",
       "      <td>30000.000000</td>\n",
       "      <td>30000.000000</td>\n",
       "      <td>30000.000000</td>\n",
       "    </tr>\n",
       "    <tr>\n",
       "      <th>mean</th>\n",
       "      <td>1.603733</td>\n",
       "      <td>1.853133</td>\n",
       "      <td>1.551867</td>\n",
       "    </tr>\n",
       "    <tr>\n",
       "      <th>std</th>\n",
       "      <td>0.489129</td>\n",
       "      <td>0.790349</td>\n",
       "      <td>0.521970</td>\n",
       "    </tr>\n",
       "    <tr>\n",
       "      <th>min</th>\n",
       "      <td>1.000000</td>\n",
       "      <td>0.000000</td>\n",
       "      <td>0.000000</td>\n",
       "    </tr>\n",
       "    <tr>\n",
       "      <th>25%</th>\n",
       "      <td>1.000000</td>\n",
       "      <td>1.000000</td>\n",
       "      <td>1.000000</td>\n",
       "    </tr>\n",
       "    <tr>\n",
       "      <th>50%</th>\n",
       "      <td>2.000000</td>\n",
       "      <td>2.000000</td>\n",
       "      <td>2.000000</td>\n",
       "    </tr>\n",
       "    <tr>\n",
       "      <th>75%</th>\n",
       "      <td>2.000000</td>\n",
       "      <td>2.000000</td>\n",
       "      <td>2.000000</td>\n",
       "    </tr>\n",
       "    <tr>\n",
       "      <th>max</th>\n",
       "      <td>2.000000</td>\n",
       "      <td>6.000000</td>\n",
       "      <td>3.000000</td>\n",
       "    </tr>\n",
       "  </tbody>\n",
       "</table>\n",
       "</div>"
      ],
      "text/plain": [
       "0               SEX     EDUCATION      MARRIAGE\n",
       "count  30000.000000  30000.000000  30000.000000\n",
       "mean       1.603733      1.853133      1.551867\n",
       "std        0.489129      0.790349      0.521970\n",
       "min        1.000000      0.000000      0.000000\n",
       "25%        1.000000      1.000000      1.000000\n",
       "50%        2.000000      2.000000      2.000000\n",
       "75%        2.000000      2.000000      2.000000\n",
       "max        2.000000      6.000000      3.000000"
      ]
     },
     "execution_count": 51,
     "metadata": {},
     "output_type": "execute_result"
    }
   ],
   "source": [
    "df.iloc[:,1:4].describe()"
   ]
  },
  {
   "cell_type": "code",
   "execution_count": 59,
   "id": "a853ea5d",
   "metadata": {},
   "outputs": [
    {
     "data": {
      "text/html": [
       "<div>\n",
       "<style scoped>\n",
       "    .dataframe tbody tr th:only-of-type {\n",
       "        vertical-align: middle;\n",
       "    }\n",
       "\n",
       "    .dataframe tbody tr th {\n",
       "        vertical-align: top;\n",
       "    }\n",
       "\n",
       "    .dataframe thead th {\n",
       "        text-align: right;\n",
       "    }\n",
       "</style>\n",
       "<table border=\"1\" class=\"dataframe\">\n",
       "  <thead>\n",
       "    <tr style=\"text-align: right;\">\n",
       "      <th></th>\n",
       "      <th>PAY_0</th>\n",
       "      <th>PAY_2</th>\n",
       "      <th>PAY_3</th>\n",
       "      <th>PAY_4</th>\n",
       "      <th>PAY_5</th>\n",
       "      <th>PAY_6</th>\n",
       "    </tr>\n",
       "  </thead>\n",
       "  <tbody>\n",
       "    <tr>\n",
       "      <th>count</th>\n",
       "      <td>30000.000000</td>\n",
       "      <td>30000.000000</td>\n",
       "      <td>30000.000000</td>\n",
       "      <td>30000.000000</td>\n",
       "      <td>30000.000000</td>\n",
       "      <td>30000.000000</td>\n",
       "    </tr>\n",
       "    <tr>\n",
       "      <th>mean</th>\n",
       "      <td>-0.016700</td>\n",
       "      <td>-0.133767</td>\n",
       "      <td>-0.166200</td>\n",
       "      <td>-0.220667</td>\n",
       "      <td>-0.266200</td>\n",
       "      <td>-0.291100</td>\n",
       "    </tr>\n",
       "    <tr>\n",
       "      <th>std</th>\n",
       "      <td>1.123802</td>\n",
       "      <td>1.197186</td>\n",
       "      <td>1.196868</td>\n",
       "      <td>1.169139</td>\n",
       "      <td>1.133187</td>\n",
       "      <td>1.149988</td>\n",
       "    </tr>\n",
       "    <tr>\n",
       "      <th>min</th>\n",
       "      <td>-2.000000</td>\n",
       "      <td>-2.000000</td>\n",
       "      <td>-2.000000</td>\n",
       "      <td>-2.000000</td>\n",
       "      <td>-2.000000</td>\n",
       "      <td>-2.000000</td>\n",
       "    </tr>\n",
       "    <tr>\n",
       "      <th>25%</th>\n",
       "      <td>-1.000000</td>\n",
       "      <td>-1.000000</td>\n",
       "      <td>-1.000000</td>\n",
       "      <td>-1.000000</td>\n",
       "      <td>-1.000000</td>\n",
       "      <td>-1.000000</td>\n",
       "    </tr>\n",
       "    <tr>\n",
       "      <th>50%</th>\n",
       "      <td>0.000000</td>\n",
       "      <td>0.000000</td>\n",
       "      <td>0.000000</td>\n",
       "      <td>0.000000</td>\n",
       "      <td>0.000000</td>\n",
       "      <td>0.000000</td>\n",
       "    </tr>\n",
       "    <tr>\n",
       "      <th>75%</th>\n",
       "      <td>0.000000</td>\n",
       "      <td>0.000000</td>\n",
       "      <td>0.000000</td>\n",
       "      <td>0.000000</td>\n",
       "      <td>0.000000</td>\n",
       "      <td>0.000000</td>\n",
       "    </tr>\n",
       "    <tr>\n",
       "      <th>max</th>\n",
       "      <td>8.000000</td>\n",
       "      <td>8.000000</td>\n",
       "      <td>8.000000</td>\n",
       "      <td>8.000000</td>\n",
       "      <td>8.000000</td>\n",
       "      <td>8.000000</td>\n",
       "    </tr>\n",
       "  </tbody>\n",
       "</table>\n",
       "</div>"
      ],
      "text/plain": [
       "0             PAY_0         PAY_2         PAY_3         PAY_4         PAY_5  \\\n",
       "count  30000.000000  30000.000000  30000.000000  30000.000000  30000.000000   \n",
       "mean      -0.016700     -0.133767     -0.166200     -0.220667     -0.266200   \n",
       "std        1.123802      1.197186      1.196868      1.169139      1.133187   \n",
       "min       -2.000000     -2.000000     -2.000000     -2.000000     -2.000000   \n",
       "25%       -1.000000     -1.000000     -1.000000     -1.000000     -1.000000   \n",
       "50%        0.000000      0.000000      0.000000      0.000000      0.000000   \n",
       "75%        0.000000      0.000000      0.000000      0.000000      0.000000   \n",
       "max        8.000000      8.000000      8.000000      8.000000      8.000000   \n",
       "\n",
       "0             PAY_6  \n",
       "count  30000.000000  \n",
       "mean      -0.291100  \n",
       "std        1.149988  \n",
       "min       -2.000000  \n",
       "25%       -1.000000  \n",
       "50%        0.000000  \n",
       "75%        0.000000  \n",
       "max        8.000000  "
      ]
     },
     "execution_count": 59,
     "metadata": {},
     "output_type": "execute_result"
    }
   ],
   "source": [
    "df.iloc[:,5:11].describe()"
   ]
  },
  {
   "cell_type": "code",
   "execution_count": 54,
   "id": "574b18c5",
   "metadata": {},
   "outputs": [
    {
     "data": {
      "text/html": [
       "<div>\n",
       "<style scoped>\n",
       "    .dataframe tbody tr th:only-of-type {\n",
       "        vertical-align: middle;\n",
       "    }\n",
       "\n",
       "    .dataframe tbody tr th {\n",
       "        vertical-align: top;\n",
       "    }\n",
       "\n",
       "    .dataframe thead th {\n",
       "        text-align: right;\n",
       "    }\n",
       "</style>\n",
       "<table border=\"1\" class=\"dataframe\">\n",
       "  <thead>\n",
       "    <tr style=\"text-align: right;\">\n",
       "      <th></th>\n",
       "      <th>BILL_AMT1</th>\n",
       "      <th>BILL_AMT2</th>\n",
       "      <th>BILL_AMT3</th>\n",
       "      <th>BILL_AMT4</th>\n",
       "      <th>BILL_AMT5</th>\n",
       "      <th>BILL_AMT6</th>\n",
       "    </tr>\n",
       "  </thead>\n",
       "  <tbody>\n",
       "    <tr>\n",
       "      <th>count</th>\n",
       "      <td>30000.000000</td>\n",
       "      <td>30000.000000</td>\n",
       "      <td>3.000000e+04</td>\n",
       "      <td>30000.000000</td>\n",
       "      <td>30000.000000</td>\n",
       "      <td>30000.000000</td>\n",
       "    </tr>\n",
       "    <tr>\n",
       "      <th>mean</th>\n",
       "      <td>51223.330900</td>\n",
       "      <td>49179.075167</td>\n",
       "      <td>4.701315e+04</td>\n",
       "      <td>43262.948967</td>\n",
       "      <td>40311.400967</td>\n",
       "      <td>38871.760400</td>\n",
       "    </tr>\n",
       "    <tr>\n",
       "      <th>std</th>\n",
       "      <td>73635.860576</td>\n",
       "      <td>71173.768783</td>\n",
       "      <td>6.934939e+04</td>\n",
       "      <td>64332.856134</td>\n",
       "      <td>60797.155770</td>\n",
       "      <td>59554.107537</td>\n",
       "    </tr>\n",
       "    <tr>\n",
       "      <th>min</th>\n",
       "      <td>-165580.000000</td>\n",
       "      <td>-69777.000000</td>\n",
       "      <td>-1.572640e+05</td>\n",
       "      <td>-170000.000000</td>\n",
       "      <td>-81334.000000</td>\n",
       "      <td>-339603.000000</td>\n",
       "    </tr>\n",
       "    <tr>\n",
       "      <th>25%</th>\n",
       "      <td>3558.750000</td>\n",
       "      <td>2984.750000</td>\n",
       "      <td>2.666250e+03</td>\n",
       "      <td>2326.750000</td>\n",
       "      <td>1763.000000</td>\n",
       "      <td>1256.000000</td>\n",
       "    </tr>\n",
       "    <tr>\n",
       "      <th>50%</th>\n",
       "      <td>22381.500000</td>\n",
       "      <td>21200.000000</td>\n",
       "      <td>2.008850e+04</td>\n",
       "      <td>19052.000000</td>\n",
       "      <td>18104.500000</td>\n",
       "      <td>17071.000000</td>\n",
       "    </tr>\n",
       "    <tr>\n",
       "      <th>75%</th>\n",
       "      <td>67091.000000</td>\n",
       "      <td>64006.250000</td>\n",
       "      <td>6.016475e+04</td>\n",
       "      <td>54506.000000</td>\n",
       "      <td>50190.500000</td>\n",
       "      <td>49198.250000</td>\n",
       "    </tr>\n",
       "    <tr>\n",
       "      <th>max</th>\n",
       "      <td>964511.000000</td>\n",
       "      <td>983931.000000</td>\n",
       "      <td>1.664089e+06</td>\n",
       "      <td>891586.000000</td>\n",
       "      <td>927171.000000</td>\n",
       "      <td>961664.000000</td>\n",
       "    </tr>\n",
       "  </tbody>\n",
       "</table>\n",
       "</div>"
      ],
      "text/plain": [
       "0          BILL_AMT1      BILL_AMT2     BILL_AMT3      BILL_AMT4  \\\n",
       "count   30000.000000   30000.000000  3.000000e+04   30000.000000   \n",
       "mean    51223.330900   49179.075167  4.701315e+04   43262.948967   \n",
       "std     73635.860576   71173.768783  6.934939e+04   64332.856134   \n",
       "min   -165580.000000  -69777.000000 -1.572640e+05 -170000.000000   \n",
       "25%      3558.750000    2984.750000  2.666250e+03    2326.750000   \n",
       "50%     22381.500000   21200.000000  2.008850e+04   19052.000000   \n",
       "75%     67091.000000   64006.250000  6.016475e+04   54506.000000   \n",
       "max    964511.000000  983931.000000  1.664089e+06  891586.000000   \n",
       "\n",
       "0          BILL_AMT5      BILL_AMT6  \n",
       "count   30000.000000   30000.000000  \n",
       "mean    40311.400967   38871.760400  \n",
       "std     60797.155770   59554.107537  \n",
       "min    -81334.000000 -339603.000000  \n",
       "25%      1763.000000    1256.000000  \n",
       "50%     18104.500000   17071.000000  \n",
       "75%     50190.500000   49198.250000  \n",
       "max    927171.000000  961664.000000  "
      ]
     },
     "execution_count": 54,
     "metadata": {},
     "output_type": "execute_result"
    }
   ],
   "source": [
    "df.iloc[:,11:17].describe()"
   ]
  },
  {
   "cell_type": "code",
   "execution_count": 55,
   "id": "6f66b5d7",
   "metadata": {},
   "outputs": [
    {
     "data": {
      "text/html": [
       "<div>\n",
       "<style scoped>\n",
       "    .dataframe tbody tr th:only-of-type {\n",
       "        vertical-align: middle;\n",
       "    }\n",
       "\n",
       "    .dataframe tbody tr th {\n",
       "        vertical-align: top;\n",
       "    }\n",
       "\n",
       "    .dataframe thead th {\n",
       "        text-align: right;\n",
       "    }\n",
       "</style>\n",
       "<table border=\"1\" class=\"dataframe\">\n",
       "  <thead>\n",
       "    <tr style=\"text-align: right;\">\n",
       "      <th></th>\n",
       "      <th>PAY_AMT1</th>\n",
       "      <th>PAY_AMT2</th>\n",
       "      <th>PAY_AMT3</th>\n",
       "      <th>PAY_AMT4</th>\n",
       "      <th>PAY_AMT5</th>\n",
       "      <th>PAY_AMT6</th>\n",
       "    </tr>\n",
       "  </thead>\n",
       "  <tbody>\n",
       "    <tr>\n",
       "      <th>count</th>\n",
       "      <td>30000.000000</td>\n",
       "      <td>3.000000e+04</td>\n",
       "      <td>30000.00000</td>\n",
       "      <td>30000.000000</td>\n",
       "      <td>30000.000000</td>\n",
       "      <td>30000.000000</td>\n",
       "    </tr>\n",
       "    <tr>\n",
       "      <th>mean</th>\n",
       "      <td>5663.580500</td>\n",
       "      <td>5.921163e+03</td>\n",
       "      <td>5225.68150</td>\n",
       "      <td>4826.076867</td>\n",
       "      <td>4799.387633</td>\n",
       "      <td>5215.502567</td>\n",
       "    </tr>\n",
       "    <tr>\n",
       "      <th>std</th>\n",
       "      <td>16563.280354</td>\n",
       "      <td>2.304087e+04</td>\n",
       "      <td>17606.96147</td>\n",
       "      <td>15666.159744</td>\n",
       "      <td>15278.305679</td>\n",
       "      <td>17777.465775</td>\n",
       "    </tr>\n",
       "    <tr>\n",
       "      <th>min</th>\n",
       "      <td>0.000000</td>\n",
       "      <td>0.000000e+00</td>\n",
       "      <td>0.00000</td>\n",
       "      <td>0.000000</td>\n",
       "      <td>0.000000</td>\n",
       "      <td>0.000000</td>\n",
       "    </tr>\n",
       "    <tr>\n",
       "      <th>25%</th>\n",
       "      <td>1000.000000</td>\n",
       "      <td>8.330000e+02</td>\n",
       "      <td>390.00000</td>\n",
       "      <td>296.000000</td>\n",
       "      <td>252.500000</td>\n",
       "      <td>117.750000</td>\n",
       "    </tr>\n",
       "    <tr>\n",
       "      <th>50%</th>\n",
       "      <td>2100.000000</td>\n",
       "      <td>2.009000e+03</td>\n",
       "      <td>1800.00000</td>\n",
       "      <td>1500.000000</td>\n",
       "      <td>1500.000000</td>\n",
       "      <td>1500.000000</td>\n",
       "    </tr>\n",
       "    <tr>\n",
       "      <th>75%</th>\n",
       "      <td>5006.000000</td>\n",
       "      <td>5.000000e+03</td>\n",
       "      <td>4505.00000</td>\n",
       "      <td>4013.250000</td>\n",
       "      <td>4031.500000</td>\n",
       "      <td>4000.000000</td>\n",
       "    </tr>\n",
       "    <tr>\n",
       "      <th>max</th>\n",
       "      <td>873552.000000</td>\n",
       "      <td>1.684259e+06</td>\n",
       "      <td>896040.00000</td>\n",
       "      <td>621000.000000</td>\n",
       "      <td>426529.000000</td>\n",
       "      <td>528666.000000</td>\n",
       "    </tr>\n",
       "  </tbody>\n",
       "</table>\n",
       "</div>"
      ],
      "text/plain": [
       "0           PAY_AMT1      PAY_AMT2      PAY_AMT3       PAY_AMT4  \\\n",
       "count   30000.000000  3.000000e+04   30000.00000   30000.000000   \n",
       "mean     5663.580500  5.921163e+03    5225.68150    4826.076867   \n",
       "std     16563.280354  2.304087e+04   17606.96147   15666.159744   \n",
       "min         0.000000  0.000000e+00       0.00000       0.000000   \n",
       "25%      1000.000000  8.330000e+02     390.00000     296.000000   \n",
       "50%      2100.000000  2.009000e+03    1800.00000    1500.000000   \n",
       "75%      5006.000000  5.000000e+03    4505.00000    4013.250000   \n",
       "max    873552.000000  1.684259e+06  896040.00000  621000.000000   \n",
       "\n",
       "0           PAY_AMT5       PAY_AMT6  \n",
       "count   30000.000000   30000.000000  \n",
       "mean     4799.387633    5215.502567  \n",
       "std     15278.305679   17777.465775  \n",
       "min         0.000000       0.000000  \n",
       "25%       252.500000     117.750000  \n",
       "50%      1500.000000    1500.000000  \n",
       "75%      4031.500000    4000.000000  \n",
       "max    426529.000000  528666.000000  "
      ]
     },
     "execution_count": 55,
     "metadata": {},
     "output_type": "execute_result"
    }
   ],
   "source": [
    "df.iloc[:,17:23].describe()"
   ]
  },
  {
   "cell_type": "code",
   "execution_count": 66,
   "id": "503ca620",
   "metadata": {},
   "outputs": [
    {
     "name": "stdout",
     "output_type": "stream",
     "text": [
      "count      30000.000000\n",
      "mean      167484.322667\n",
      "std       129747.661567\n",
      "min        10000.000000\n",
      "25%        50000.000000\n",
      "50%       140000.000000\n",
      "75%       240000.000000\n",
      "max      1000000.000000\n",
      "Name: LIMIT_BAL, dtype: float64\n",
      "\n",
      "count    30000.000000\n",
      "mean         0.221200\n",
      "std          0.415062\n",
      "min          0.000000\n",
      "25%          0.000000\n",
      "50%          0.000000\n",
      "75%          0.000000\n",
      "max          1.000000\n",
      "Name: def_pay, dtype: float64\n"
     ]
    }
   ],
   "source": [
    "print(df.iloc[:,0].describe())\n",
    "print()\n",
    "print(df.iloc[:,23].describe())"
   ]
  },
  {
   "cell_type": "code",
   "execution_count": 61,
   "id": "12efc5d7",
   "metadata": {},
   "outputs": [
    {
     "data": {
      "text/html": [
       "<div>\n",
       "<style scoped>\n",
       "    .dataframe tbody tr th:only-of-type {\n",
       "        vertical-align: middle;\n",
       "    }\n",
       "\n",
       "    .dataframe tbody tr th {\n",
       "        vertical-align: top;\n",
       "    }\n",
       "\n",
       "    .dataframe thead th {\n",
       "        text-align: right;\n",
       "    }\n",
       "</style>\n",
       "<table border=\"1\" class=\"dataframe\">\n",
       "  <thead>\n",
       "    <tr style=\"text-align: right;\">\n",
       "      <th></th>\n",
       "      <th>LIMIT_BAL</th>\n",
       "      <th>SEX</th>\n",
       "      <th>EDUCATION</th>\n",
       "      <th>MARRIAGE</th>\n",
       "      <th>AGE</th>\n",
       "      <th>PAY_1</th>\n",
       "      <th>PAY_2</th>\n",
       "      <th>PAY_3</th>\n",
       "      <th>PAY_4</th>\n",
       "      <th>PAY_5</th>\n",
       "      <th>...</th>\n",
       "      <th>BILL_AMT4</th>\n",
       "      <th>BILL_AMT5</th>\n",
       "      <th>BILL_AMT6</th>\n",
       "      <th>PAY_AMT1</th>\n",
       "      <th>PAY_AMT2</th>\n",
       "      <th>PAY_AMT3</th>\n",
       "      <th>PAY_AMT4</th>\n",
       "      <th>PAY_AMT5</th>\n",
       "      <th>PAY_AMT6</th>\n",
       "      <th>def_pay</th>\n",
       "    </tr>\n",
       "  </thead>\n",
       "  <tbody>\n",
       "    <tr>\n",
       "      <th>1</th>\n",
       "      <td>20000.0</td>\n",
       "      <td>2</td>\n",
       "      <td>2</td>\n",
       "      <td>1</td>\n",
       "      <td>24</td>\n",
       "      <td>2</td>\n",
       "      <td>2</td>\n",
       "      <td>-1</td>\n",
       "      <td>-1</td>\n",
       "      <td>-2</td>\n",
       "      <td>...</td>\n",
       "      <td>0.0</td>\n",
       "      <td>0.0</td>\n",
       "      <td>0.0</td>\n",
       "      <td>0.0</td>\n",
       "      <td>689.0</td>\n",
       "      <td>0.0</td>\n",
       "      <td>0.0</td>\n",
       "      <td>0.0</td>\n",
       "      <td>0.0</td>\n",
       "      <td>1</td>\n",
       "    </tr>\n",
       "    <tr>\n",
       "      <th>2</th>\n",
       "      <td>120000.0</td>\n",
       "      <td>2</td>\n",
       "      <td>2</td>\n",
       "      <td>2</td>\n",
       "      <td>26</td>\n",
       "      <td>-1</td>\n",
       "      <td>2</td>\n",
       "      <td>0</td>\n",
       "      <td>0</td>\n",
       "      <td>0</td>\n",
       "      <td>...</td>\n",
       "      <td>3272.0</td>\n",
       "      <td>3455.0</td>\n",
       "      <td>3261.0</td>\n",
       "      <td>0.0</td>\n",
       "      <td>1000.0</td>\n",
       "      <td>1000.0</td>\n",
       "      <td>1000.0</td>\n",
       "      <td>0.0</td>\n",
       "      <td>2000.0</td>\n",
       "      <td>1</td>\n",
       "    </tr>\n",
       "    <tr>\n",
       "      <th>3</th>\n",
       "      <td>90000.0</td>\n",
       "      <td>2</td>\n",
       "      <td>2</td>\n",
       "      <td>2</td>\n",
       "      <td>34</td>\n",
       "      <td>0</td>\n",
       "      <td>0</td>\n",
       "      <td>0</td>\n",
       "      <td>0</td>\n",
       "      <td>0</td>\n",
       "      <td>...</td>\n",
       "      <td>14331.0</td>\n",
       "      <td>14948.0</td>\n",
       "      <td>15549.0</td>\n",
       "      <td>1518.0</td>\n",
       "      <td>1500.0</td>\n",
       "      <td>1000.0</td>\n",
       "      <td>1000.0</td>\n",
       "      <td>1000.0</td>\n",
       "      <td>5000.0</td>\n",
       "      <td>0</td>\n",
       "    </tr>\n",
       "    <tr>\n",
       "      <th>4</th>\n",
       "      <td>50000.0</td>\n",
       "      <td>2</td>\n",
       "      <td>2</td>\n",
       "      <td>1</td>\n",
       "      <td>37</td>\n",
       "      <td>0</td>\n",
       "      <td>0</td>\n",
       "      <td>0</td>\n",
       "      <td>0</td>\n",
       "      <td>0</td>\n",
       "      <td>...</td>\n",
       "      <td>28314.0</td>\n",
       "      <td>28959.0</td>\n",
       "      <td>29547.0</td>\n",
       "      <td>2000.0</td>\n",
       "      <td>2019.0</td>\n",
       "      <td>1200.0</td>\n",
       "      <td>1100.0</td>\n",
       "      <td>1069.0</td>\n",
       "      <td>1000.0</td>\n",
       "      <td>0</td>\n",
       "    </tr>\n",
       "    <tr>\n",
       "      <th>5</th>\n",
       "      <td>50000.0</td>\n",
       "      <td>1</td>\n",
       "      <td>2</td>\n",
       "      <td>1</td>\n",
       "      <td>57</td>\n",
       "      <td>-1</td>\n",
       "      <td>0</td>\n",
       "      <td>-1</td>\n",
       "      <td>0</td>\n",
       "      <td>0</td>\n",
       "      <td>...</td>\n",
       "      <td>20940.0</td>\n",
       "      <td>19146.0</td>\n",
       "      <td>19131.0</td>\n",
       "      <td>2000.0</td>\n",
       "      <td>36681.0</td>\n",
       "      <td>10000.0</td>\n",
       "      <td>9000.0</td>\n",
       "      <td>689.0</td>\n",
       "      <td>679.0</td>\n",
       "      <td>0</td>\n",
       "    </tr>\n",
       "    <tr>\n",
       "      <th>...</th>\n",
       "      <td>...</td>\n",
       "      <td>...</td>\n",
       "      <td>...</td>\n",
       "      <td>...</td>\n",
       "      <td>...</td>\n",
       "      <td>...</td>\n",
       "      <td>...</td>\n",
       "      <td>...</td>\n",
       "      <td>...</td>\n",
       "      <td>...</td>\n",
       "      <td>...</td>\n",
       "      <td>...</td>\n",
       "      <td>...</td>\n",
       "      <td>...</td>\n",
       "      <td>...</td>\n",
       "      <td>...</td>\n",
       "      <td>...</td>\n",
       "      <td>...</td>\n",
       "      <td>...</td>\n",
       "      <td>...</td>\n",
       "      <td>...</td>\n",
       "    </tr>\n",
       "    <tr>\n",
       "      <th>29996</th>\n",
       "      <td>220000.0</td>\n",
       "      <td>1</td>\n",
       "      <td>3</td>\n",
       "      <td>1</td>\n",
       "      <td>39</td>\n",
       "      <td>0</td>\n",
       "      <td>0</td>\n",
       "      <td>0</td>\n",
       "      <td>0</td>\n",
       "      <td>0</td>\n",
       "      <td>...</td>\n",
       "      <td>88004.0</td>\n",
       "      <td>31237.0</td>\n",
       "      <td>15980.0</td>\n",
       "      <td>8500.0</td>\n",
       "      <td>20000.0</td>\n",
       "      <td>5003.0</td>\n",
       "      <td>3047.0</td>\n",
       "      <td>5000.0</td>\n",
       "      <td>1000.0</td>\n",
       "      <td>0</td>\n",
       "    </tr>\n",
       "    <tr>\n",
       "      <th>29997</th>\n",
       "      <td>150000.0</td>\n",
       "      <td>1</td>\n",
       "      <td>3</td>\n",
       "      <td>2</td>\n",
       "      <td>43</td>\n",
       "      <td>-1</td>\n",
       "      <td>-1</td>\n",
       "      <td>-1</td>\n",
       "      <td>-1</td>\n",
       "      <td>0</td>\n",
       "      <td>...</td>\n",
       "      <td>8979.0</td>\n",
       "      <td>5190.0</td>\n",
       "      <td>0.0</td>\n",
       "      <td>1837.0</td>\n",
       "      <td>3526.0</td>\n",
       "      <td>8998.0</td>\n",
       "      <td>129.0</td>\n",
       "      <td>0.0</td>\n",
       "      <td>0.0</td>\n",
       "      <td>0</td>\n",
       "    </tr>\n",
       "    <tr>\n",
       "      <th>29998</th>\n",
       "      <td>30000.0</td>\n",
       "      <td>1</td>\n",
       "      <td>2</td>\n",
       "      <td>2</td>\n",
       "      <td>37</td>\n",
       "      <td>4</td>\n",
       "      <td>3</td>\n",
       "      <td>2</td>\n",
       "      <td>-1</td>\n",
       "      <td>0</td>\n",
       "      <td>...</td>\n",
       "      <td>20878.0</td>\n",
       "      <td>20582.0</td>\n",
       "      <td>19357.0</td>\n",
       "      <td>0.0</td>\n",
       "      <td>0.0</td>\n",
       "      <td>22000.0</td>\n",
       "      <td>4200.0</td>\n",
       "      <td>2000.0</td>\n",
       "      <td>3100.0</td>\n",
       "      <td>1</td>\n",
       "    </tr>\n",
       "    <tr>\n",
       "      <th>29999</th>\n",
       "      <td>80000.0</td>\n",
       "      <td>1</td>\n",
       "      <td>3</td>\n",
       "      <td>1</td>\n",
       "      <td>41</td>\n",
       "      <td>1</td>\n",
       "      <td>-1</td>\n",
       "      <td>0</td>\n",
       "      <td>0</td>\n",
       "      <td>0</td>\n",
       "      <td>...</td>\n",
       "      <td>52774.0</td>\n",
       "      <td>11855.0</td>\n",
       "      <td>48944.0</td>\n",
       "      <td>85900.0</td>\n",
       "      <td>3409.0</td>\n",
       "      <td>1178.0</td>\n",
       "      <td>1926.0</td>\n",
       "      <td>52964.0</td>\n",
       "      <td>1804.0</td>\n",
       "      <td>1</td>\n",
       "    </tr>\n",
       "    <tr>\n",
       "      <th>30000</th>\n",
       "      <td>50000.0</td>\n",
       "      <td>1</td>\n",
       "      <td>2</td>\n",
       "      <td>1</td>\n",
       "      <td>46</td>\n",
       "      <td>0</td>\n",
       "      <td>0</td>\n",
       "      <td>0</td>\n",
       "      <td>0</td>\n",
       "      <td>0</td>\n",
       "      <td>...</td>\n",
       "      <td>36535.0</td>\n",
       "      <td>32428.0</td>\n",
       "      <td>15313.0</td>\n",
       "      <td>2078.0</td>\n",
       "      <td>1800.0</td>\n",
       "      <td>1430.0</td>\n",
       "      <td>1000.0</td>\n",
       "      <td>1000.0</td>\n",
       "      <td>1000.0</td>\n",
       "      <td>1</td>\n",
       "    </tr>\n",
       "  </tbody>\n",
       "</table>\n",
       "<p>30000 rows × 24 columns</p>\n",
       "</div>"
      ],
      "text/plain": [
       "0      LIMIT_BAL  SEX  EDUCATION  MARRIAGE  AGE  PAY_1  PAY_2  PAY_3  PAY_4  \\\n",
       "1        20000.0    2          2         1   24      2      2     -1     -1   \n",
       "2       120000.0    2          2         2   26     -1      2      0      0   \n",
       "3        90000.0    2          2         2   34      0      0      0      0   \n",
       "4        50000.0    2          2         1   37      0      0      0      0   \n",
       "5        50000.0    1          2         1   57     -1      0     -1      0   \n",
       "...          ...  ...        ...       ...  ...    ...    ...    ...    ...   \n",
       "29996   220000.0    1          3         1   39      0      0      0      0   \n",
       "29997   150000.0    1          3         2   43     -1     -1     -1     -1   \n",
       "29998    30000.0    1          2         2   37      4      3      2     -1   \n",
       "29999    80000.0    1          3         1   41      1     -1      0      0   \n",
       "30000    50000.0    1          2         1   46      0      0      0      0   \n",
       "\n",
       "0      PAY_5  ...  BILL_AMT4  BILL_AMT5  BILL_AMT6  PAY_AMT1  PAY_AMT2  \\\n",
       "1         -2  ...        0.0        0.0        0.0       0.0     689.0   \n",
       "2          0  ...     3272.0     3455.0     3261.0       0.0    1000.0   \n",
       "3          0  ...    14331.0    14948.0    15549.0    1518.0    1500.0   \n",
       "4          0  ...    28314.0    28959.0    29547.0    2000.0    2019.0   \n",
       "5          0  ...    20940.0    19146.0    19131.0    2000.0   36681.0   \n",
       "...      ...  ...        ...        ...        ...       ...       ...   \n",
       "29996      0  ...    88004.0    31237.0    15980.0    8500.0   20000.0   \n",
       "29997      0  ...     8979.0     5190.0        0.0    1837.0    3526.0   \n",
       "29998      0  ...    20878.0    20582.0    19357.0       0.0       0.0   \n",
       "29999      0  ...    52774.0    11855.0    48944.0   85900.0    3409.0   \n",
       "30000      0  ...    36535.0    32428.0    15313.0    2078.0    1800.0   \n",
       "\n",
       "0      PAY_AMT3  PAY_AMT4  PAY_AMT5  PAY_AMT6  def_pay  \n",
       "1           0.0       0.0       0.0       0.0        1  \n",
       "2        1000.0    1000.0       0.0    2000.0        1  \n",
       "3        1000.0    1000.0    1000.0    5000.0        0  \n",
       "4        1200.0    1100.0    1069.0    1000.0        0  \n",
       "5       10000.0    9000.0     689.0     679.0        0  \n",
       "...         ...       ...       ...       ...      ...  \n",
       "29996    5003.0    3047.0    5000.0    1000.0        0  \n",
       "29997    8998.0     129.0       0.0       0.0        0  \n",
       "29998   22000.0    4200.0    2000.0    3100.0        1  \n",
       "29999    1178.0    1926.0   52964.0    1804.0        1  \n",
       "30000    1430.0    1000.0    1000.0    1000.0        1  \n",
       "\n",
       "[30000 rows x 24 columns]"
      ]
     },
     "execution_count": 61,
     "metadata": {},
     "output_type": "execute_result"
    }
   ],
   "source": [
    "df = df.rename(columns={'default payment next month': 'def_pay', 'PAY_0': 'PAY_1'})\n",
    "df"
   ]
  },
  {
   "cell_type": "code",
   "execution_count": 70,
   "id": "b7082b27",
   "metadata": {},
   "outputs": [
    {
     "name": "stdout",
     "output_type": "stream",
     "text": [
      "22.12% of the def_pay is 1\n"
     ]
    }
   ],
   "source": [
    "print(f\"{df['def_pay'].sum()/300}% of the def_pay is 1\")"
   ]
  },
  {
   "cell_type": "code",
   "execution_count": 75,
   "id": "b1ba2077",
   "metadata": {},
   "outputs": [
    {
     "name": "stdout",
     "output_type": "stream",
     "text": [
      "--------------------------------------\n",
      "SEX\n",
      "2      18112\n",
      "1      11888\n",
      "dtype: int64\n",
      "--------------------------------------\n",
      "EDUCATION\n",
      "2            14030\n",
      "1            10585\n",
      "3             4917\n",
      "5              280\n",
      "4              123\n",
      "6               51\n",
      "0               14\n",
      "dtype: int64\n",
      "--------------------------------------\n",
      "MARRIAGE\n",
      "2           15964\n",
      "1           13659\n",
      "3             323\n",
      "0              54\n",
      "dtype: int64\n",
      "--------------------------------------\n"
     ]
    }
   ],
   "source": [
    "print(\"--------------------------------------\")\n",
    "for i in range(3):\n",
    "    print(df.iloc[:,i+1:i+2].value_counts())\n",
    "    print(\"--------------------------------------\")"
   ]
  },
  {
   "cell_type": "code",
   "execution_count": 84,
   "id": "b0913b87",
   "metadata": {
    "scrolled": false
   },
   "outputs": [
    {
     "name": "stdout",
     "output_type": "stream",
     "text": [
      "--------------------------------------\n",
      "SEX\n",
      "2      18112\n",
      "1      11888\n",
      "dtype: int64\n",
      "--------------------------------------\n",
      "EDUCATION\n",
      "2            14030\n",
      "1            10585\n",
      "3             4917\n",
      "5              280\n",
      "4              123\n",
      "6               51\n",
      "0               14\n",
      "dtype: int64\n",
      "--------------------------------------\n",
      "MARRIAGE\n",
      "2           15964\n",
      "1           13659\n",
      "3             323\n",
      "0              54\n",
      "dtype: int64\n",
      "--------------------------------------\n"
     ]
    },
    {
     "data": {
      "image/png": "[encoded data removed]",
      "text/plain": [
       "<Figure size 432x288 with 1 Axes>"
      ]
     },
     "metadata": {},
     "output_type": "display_data"
    },
    {
     "data": {
      "image/png": "[encoded data removed]",
      "text/plain": [
       "<Figure size 432x288 with 1 Axes>"
      ]
     },
     "metadata": {},
     "output_type": "display_data"
    },
    {
     "data": {
      "image/png": "[encoded data removed]",
      "text/plain": [
       "<Figure size 432x288 with 1 Axes>"
      ]
     },
     "metadata": {},
     "output_type": "display_data"
    }
   ],
   "source": [
    "print(\"--------------------------------------\")\n",
    "for i in range(3):\n",
    "    print(df.iloc[:,i+1:i+2].value_counts())\n",
    "    print(\"--------------------------------------\")\n",
    "\n",
    "for i in range(3):\n",
    "    df.iloc[:,i+1:i+2].value_counts().plot(kind = 'barh')\n",
    "    plt.show()"
   ]
  },
  {
   "cell_type": "code",
   "execution_count": 96,
   "id": "0c36bef0",
   "metadata": {
    "scrolled": false
   },
   "outputs": [
    {
     "name": "stdout",
     "output_type": "stream",
     "text": [
      "--------------------------------------\n",
      "PAY_1\n",
      " 0       14737\n",
      "-1        5686\n",
      " 1        3688\n",
      "-2        2759\n",
      " 2        2667\n",
      " 3         322\n",
      " 4          76\n",
      " 5          26\n",
      " 8          19\n",
      " 6          11\n",
      " 7           9\n",
      "dtype: int64\n",
      "--------------------------------------\n",
      "PAY_2\n",
      " 0       15730\n",
      "-1        6050\n",
      " 2        3927\n",
      "-2        3782\n",
      " 3         326\n",
      " 4          99\n",
      " 1          28\n",
      " 5          25\n",
      " 7          20\n",
      " 6          12\n",
      " 8           1\n",
      "dtype: int64\n",
      "--------------------------------------\n",
      "PAY_3\n",
      " 0       15764\n",
      "-1        5938\n",
      "-2        4085\n",
      " 2        3819\n",
      " 3         240\n",
      " 4          76\n",
      " 7          27\n",
      " 6          23\n",
      " 5          21\n",
      " 1           4\n",
      " 8           3\n",
      "dtype: int64\n",
      "--------------------------------------\n",
      "PAY_4\n",
      " 0       16455\n",
      "-1        5687\n",
      "-2        4348\n",
      " 2        3159\n",
      " 3         180\n",
      " 4          69\n",
      " 7          58\n",
      " 5          35\n",
      " 6           5\n",
      " 1           2\n",
      " 8           2\n",
      "dtype: int64\n",
      "--------------------------------------\n",
      "PAY_5\n",
      " 0       16947\n",
      "-1        5539\n",
      "-2        4546\n",
      " 2        2626\n",
      " 3         178\n",
      " 4          84\n",
      " 7          58\n",
      " 5          17\n",
      " 6           4\n",
      " 8           1\n",
      "dtype: int64\n",
      "--------------------------------------\n",
      "PAY_6\n",
      " 0       16286\n",
      "-1        5740\n",
      "-2        4895\n",
      " 2        2766\n",
      " 3         184\n",
      " 4          49\n",
      " 7          46\n",
      " 6          19\n",
      " 5          13\n",
      " 8           2\n",
      "dtype: int64\n",
      "--------------------------------------\n"
     ]
    },
    {
     "data": {
      "image/png": "[encoded data removed]",
      "text/plain": [
       "<Figure size 432x288 with 1 Axes>"
      ]
     },
     "metadata": {},
     "output_type": "display_data"
    },
    {
     "data": {
      "image/png": "[encoded data removed]",
      "text/plain": [
       "<Figure size 432x288 with 1 Axes>"
      ]
     },
     "metadata": {},
     "output_type": "display_data"
    },
    {
     "data": {
      "image/png": "[encoded data removed]",
      "text/plain": [
       "<Figure size 432x288 with 1 Axes>"
      ]
     },
     "metadata": {},
     "output_type": "display_data"
    },
    {
     "data": {
      "image/png": "[encoded data removed]",
      "text/plain": [
       "<Figure size 432x288 with 1 Axes>"
      ]
     },
     "metadata": {},
     "output_type": "display_data"
    },
    {
     "data": {
      "image/png": "[encoded data removed]",
      "text/plain": [
       "<Figure size 432x288 with 1 Axes>"
      ]
     },
     "metadata": {},
     "output_type": "display_data"
    },
    {
     "data": {
      "image/png": "[encoded data removed]",
      "text/plain": [
       "<Figure size 432x288 with 1 Axes>"
      ]
     },
     "metadata": {},
     "output_type": "display_data"
    }
   ],
   "source": [
    "print(\"--------------------------------------\")\n",
    "for i in range(6):\n",
    "    print(df.iloc[:,i+5:i+6].value_counts())\n",
    "    print(\"--------------------------------------\")\n",
    "\n",
    "\n",
    "for i in range(6):\n",
    "    df.iloc[:,i+5:i+6].value_counts().plot(kind = 'barh')\n",
    "    plt.show()"
   ]
  },
  {
   "cell_type": "code",
   "execution_count": 97,
   "id": "7bc45700",
   "metadata": {},
   "outputs": [
    {
     "data": {
      "image/png": "[encoded data removed]",
      "text/plain": [
       "<Figure size 1800x1800 with 2 Axes>"
      ]
     },
     "metadata": {},
     "output_type": "display_data"
    }
   ],
   "source": [
    "cor=df.iloc[:,:-1].corr()\n",
    "plt.figure(figsize=(25,25))\n",
    "sns.heatmap(cor, cmap='Blues')\n",
    "plt.title(\"Correlation Matrix Heatmap\")\n",
    "plt.show()"
   ]
  },
  {
   "cell_type": "code",
   "execution_count": 99,
   "id": "ee62a5a6",
   "metadata": {},
   "outputs": [
    {
     "data": {
      "text/plain": [
       "BILL_AMT1  BILL_AMT2    0.951484\n",
       "BILL_AMT2  BILL_AMT1    0.951484\n",
       "BILL_AMT6  BILL_AMT5    0.946197\n",
       "BILL_AMT5  BILL_AMT6    0.946197\n",
       "BILL_AMT4  BILL_AMT5    0.940134\n",
       "                          ...   \n",
       "LIMIT_BAL  PAY_3       -0.286123\n",
       "PAY_2      LIMIT_BAL   -0.296382\n",
       "LIMIT_BAL  PAY_2       -0.296382\n",
       "MARRIAGE   AGE         -0.414170\n",
       "AGE        MARRIAGE    -0.414170\n",
       "Length: 506, dtype: float64"
      ]
     },
     "execution_count": 99,
     "metadata": {},
     "output_type": "execute_result"
    }
   ],
   "source": [
    "cor = df.iloc[:,:-1].corr()\n",
    "# Convert the correlation matrix into a Series\n",
    "cor_series = cor.unstack()\n",
    "# Sort the correlation values in descending order\n",
    "sorted_cor = cor_series.sort_values(ascending=False)\n",
    "# Filter out the pairs with perfect correlation (correlation of 1) and self-correlations\n",
    "sorted_cor = sorted_cor[(sorted_cor < 1) & (sorted_cor > -1)]\n",
    "sorted_cor"
   ]
  },
  {
   "cell_type": "code",
   "execution_count": 108,
   "id": "c1b7e474",
   "metadata": {},
   "outputs": [
    {
     "data": {
      "image/png": "[encoded data removed]",
      "text/plain": [
       "<Figure size 576x576 with 2 Axes>"
      ]
     },
     "metadata": {},
     "output_type": "display_data"
    }
   ],
   "source": [
    "var = ['PAY_1', 'PAY_2','PAY_3', 'PAY_4', 'PAY_5', 'PAY_6']\n",
    "\n",
    "plt.figure(figsize = (8,8))\n",
    "corr = df[var].corr()\n",
    "sns.heatmap(corr,xticklabels=corr.columns,yticklabels=corr.columns,linewidths=.1,vmin=-1, vmax=1)\n",
    "plt.show()"
   ]
  },
  {
   "cell_type": "code",
   "execution_count": 109,
   "id": "629ab8e4",
   "metadata": {},
   "outputs": [
    {
     "data": {
      "image/png": "[encoded data removed]",
      "text/plain": [
       "<Figure size 576x576 with 2 Axes>"
      ]
     },
     "metadata": {},
     "output_type": "display_data"
    }
   ],
   "source": [
    "var = ['BILL_AMT1','BILL_AMT2','BILL_AMT3','BILL_AMT4','BILL_AMT5','BILL_AMT6']\n",
    "\n",
    "plt.figure(figsize = (8,8))\n",
    "corr = df[var].corr()\n",
    "sns.heatmap(corr,xticklabels=corr.columns,yticklabels=corr.columns,linewidths=.1,vmin=-1, vmax=1)\n",
    "plt.show()"
   ]
  },
  {
   "cell_type": "code",
   "execution_count": 110,
   "id": "6826373e",
   "metadata": {},
   "outputs": [
    {
     "data": {
      "image/png": "[encoded data removed]",
      "text/plain": [
       "<Figure size 576x576 with 2 Axes>"
      ]
     },
     "metadata": {},
     "output_type": "display_data"
    }
   ],
   "source": [
    "var = ['PAY_AMT1', 'PAY_AMT2', 'PAY_AMT3', 'PAY_AMT4', 'PAY_AMT5', 'PAY_AMT6']\n",
    "plt.figure(figsize = (8,8))\n",
    "corr = df[var].corr()\n",
    "sns.heatmap(corr,xticklabels=corr.columns,yticklabels=corr.columns,linewidths=.1,vmin=-1, vmax=1)\n",
    "plt.show()"
   ]
  },
  {
   "cell_type": "code",
   "execution_count": 132,
   "id": "0784a8aa",
   "metadata": {},
   "outputs": [],
   "source": [
    "def boxplot_variation(feature1, feature2, feature3, width=16, type_=\"box\"):\n",
    "    fig, ax1 = plt.subplots(ncols=1, figsize=(width,6))\n",
    "    if(type_==\"box\"):\n",
    "        s = sns.boxplot(ax = ax1, x=feature1, y=feature2, hue=feature3,\n",
    "                    data=df, palette=\"PRGn\",showfliers=False)\n",
    "    else:\n",
    "        s = sns.violinplot(ax = ax1, x=feature1, y=feature2, hue=feature3,\n",
    "            data=df, palette=\"PRGn\",showfliers=False)\n",
    "    s.set_xticklabels(s.get_xticklabels(),rotation=90)\n",
    "    plt.show()"
   ]
  },
  {
   "cell_type": "code",
   "execution_count": 133,
   "id": "311fe7fb",
   "metadata": {},
   "outputs": [
    {
     "data": {
      "image/png": "[encoded data removed]",
      "text/plain": [
       "<Figure size 1080x432 with 1 Axes>"
      ]
     },
     "metadata": {},
     "output_type": "display_data"
    }
   ],
   "source": [
    "boxplot_variation('MARRIAGE','AGE', 'SEX',15,type_=\"violin\")"
   ]
  },
  {
   "cell_type": "code",
   "execution_count": 134,
   "id": "09e154d1",
   "metadata": {},
   "outputs": [
    {
     "data": {
      "image/png": "[encoded data removed]",
      "text/plain": [
       "<Figure size 1152x432 with 1 Axes>"
      ]
     },
     "metadata": {},
     "output_type": "display_data"
    }
   ],
   "source": [
    "boxplot_variation('EDUCATION','AGE', 'MARRIAGE',16)"
   ]
  },
  {
   "cell_type": "code",
   "execution_count": 135,
   "id": "7a2d78b5",
   "metadata": {},
   "outputs": [
    {
     "data": {
      "image/png": "[encoded data removed]",
      "text/plain": [
       "<Figure size 1800x432 with 1 Axes>"
      ]
     },
     "metadata": {},
     "output_type": "display_data"
    }
   ],
   "source": [
    "boxplot_variation('AGE','LIMIT_BAL', 'SEX',25)"
   ]
  },
  {
   "cell_type": "code",
   "execution_count": 136,
   "id": "fe409d02",
   "metadata": {},
   "outputs": [
    {
     "data": {
      "image/png": "[encoded data removed]",
      "text/plain": [
       "<Figure size 1440x432 with 1 Axes>"
      ]
     },
     "metadata": {},
     "output_type": "display_data"
    }
   ],
   "source": [
    "boxplot_variation('MARRIAGE','LIMIT_BAL', 'EDUCATION',20)"
   ]
  },
  {
   "cell_type": "code",
   "execution_count": 138,
   "id": "319c21c2",
   "metadata": {},
   "outputs": [],
   "source": [
    "# THE BELOW DATA WAS GIVEN DURING THE DATASET DESCRIPTION:\n",
    "# LIMIT_BAL: Amount of given credit in NT dollars (includes individual and family/supplementary credit\n",
    "# SEX: Gender (1=male, 2=female)\n",
    "# EDUCATION: (1=graduate school, 2=university, 3=high school, 4=others, 5=unknown, 6=unknown)\n",
    "# MARRIAGE: Marital status (1=married, 2=single, 3=others)"
   ]
  },
  {
   "cell_type": "code",
   "execution_count": 141,
   "id": "c46438d7",
   "metadata": {},
   "outputs": [],
   "source": [
    "# We can group categories 4,5, and 6 as 'others'\n",
    "# We can group categories 4,5, and 6 as 'others'"
   ]
  },
  {
   "cell_type": "code",
   "execution_count": 142,
   "id": "d84ca1f0",
   "metadata": {},
   "outputs": [
    {
     "data": {
      "text/plain": [
       "2    14030\n",
       "1    10585\n",
       "3     4917\n",
       "4      468\n",
       "Name: EDUCATION, dtype: int64"
      ]
     },
     "execution_count": 142,
     "metadata": {},
     "output_type": "execute_result"
    }
   ],
   "source": [
    "fil = (df.EDUCATION == 5) | (df.EDUCATION == 6) | (df.EDUCATION == 0)\n",
    "df.loc[fil, 'EDUCATION'] = 4\n",
    "df.EDUCATION.value_counts()"
   ]
  },
  {
   "cell_type": "code",
   "execution_count": 143,
   "id": "8826a4f8",
   "metadata": {},
   "outputs": [],
   "source": [
    "# split test train data python with equal ratio of classes"
   ]
  },
  {
   "cell_type": "code",
   "execution_count": 146,
   "id": "7a604e40",
   "metadata": {},
   "outputs": [],
   "source": [
    "X = df.iloc[:,:-1]\n",
    "y = df.iloc[:,-1]\n",
    "\n",
    "# Split the data with an equal ratio of classes\n",
    "X_train, X_test, y_train, y_test = train_test_split(X, y, test_size=0.2, stratify=y, random_state=42)"
   ]
  },
  {
   "cell_type": "code",
   "execution_count": 178,
   "id": "ff5060aa",
   "metadata": {},
   "outputs": [],
   "source": [
    "from sklearn.tree import DecisionTreeClassifier\n",
    "from sklearn.metrics import accuracy_score, make_scorer\n",
    "from sklearn.model_selection import GridSearchCV\n",
    "from sklearn.preprocessing import StandardScaler"
   ]
  },
  {
   "cell_type": "markdown",
   "id": "b61b4fcb",
   "metadata": {},
   "source": [
    "# DecisionTreeClassifier"
   ]
  },
  {
   "cell_type": "code",
   "execution_count": 153,
   "id": "449651bb",
   "metadata": {},
   "outputs": [
    {
     "data": {
      "text/plain": [
       "0.8106666666666666"
      ]
     },
     "execution_count": 153,
     "metadata": {},
     "output_type": "execute_result"
    }
   ],
   "source": [
    "classifier = DecisionTreeClassifier(max_depth=10, random_state=42) \n",
    "classifier.fit(X_train, y_train)\n",
    "predictions = classifier.predict(X_test)\n",
    "accuracy_score(y_true = y_test, y_pred = predictions)"
   ]
  },
  {
   "cell_type": "code",
   "execution_count": 154,
   "id": "3945ecfb",
   "metadata": {},
   "outputs": [
    {
     "data": {
      "text/plain": [
       "0.7158333333333333"
      ]
     },
     "execution_count": 154,
     "metadata": {},
     "output_type": "execute_result"
    }
   ],
   "source": [
    "classifier = DecisionTreeClassifier(max_depth=100, random_state=42) \n",
    "classifier.fit(X_train, y_train)\n",
    "predictions = classifier.predict(X_test)\n",
    "accuracy_score(y_true = y_test, y_pred = predictions)"
   ]
  },
  {
   "cell_type": "code",
   "execution_count": 159,
   "id": "cccc3481",
   "metadata": {},
   "outputs": [
    {
     "data": {
      "text/plain": [
       "0.72"
      ]
     },
     "execution_count": 159,
     "metadata": {},
     "output_type": "execute_result"
    }
   ],
   "source": [
    "param_grid = {'max_depth': np.arange(3, 10),\n",
    "             'criterion' : ['gini','entropy'],\n",
    "             'max_leaf_nodes': [5,10,20,100],\n",
    "             'min_samples_split': [2, 5, 10, 20]}\n",
    "\n",
    "classifier = DecisionTreeClassifier(max_depth=100, criterion='entropy', random_state=42) \n",
    "classifier.fit(X_train, y_train)\n",
    "predictions = classifier.predict(X_test)\n",
    "accuracy_score(y_true = y_test, y_pred = predictions)"
   ]
  },
  {
   "cell_type": "code",
   "execution_count": 160,
   "id": "5b37f563",
   "metadata": {},
   "outputs": [
    {
     "data": {
      "text/plain": [
       "0.8148333333333333"
      ]
     },
     "execution_count": 160,
     "metadata": {},
     "output_type": "execute_result"
    }
   ],
   "source": [
    "classifier = DecisionTreeClassifier(max_depth=8, criterion='entropy', random_state=42) \n",
    "classifier.fit(X_train, y_train)\n",
    "predictions = classifier.predict(X_test)\n",
    "accuracy_score(y_true = y_test, y_pred = predictions)"
   ]
  },
  {
   "cell_type": "code",
   "execution_count": 161,
   "id": "28f313dc",
   "metadata": {},
   "outputs": [
    {
     "data": {
      "text/plain": [
       "0.8161666666666667"
      ]
     },
     "execution_count": 161,
     "metadata": {},
     "output_type": "execute_result"
    }
   ],
   "source": [
    "classifier = DecisionTreeClassifier(max_depth=8, criterion='entropy',max_leaf_nodes=20, random_state=42) \n",
    "classifier.fit(X_train, y_train)\n",
    "predictions = classifier.predict(X_test)\n",
    "accuracy_score(y_true = y_test, y_pred = predictions)"
   ]
  },
  {
   "cell_type": "code",
   "execution_count": 164,
   "id": "f8d88b2c",
   "metadata": {},
   "outputs": [
    {
     "name": "stdout",
     "output_type": "stream",
     "text": [
      "0.8161666666666667\n",
      "0.8161666666666667\n"
     ]
    }
   ],
   "source": [
    "classifier = DecisionTreeClassifier(max_depth=8, criterion='entropy',max_leaf_nodes=20,min_samples_split=5, random_state=42) \n",
    "classifier.fit(X_train, y_train)\n",
    "predictions = classifier.predict(X_test)\n",
    "print(accuracy_score(y_true = y_test, y_pred = predictions))\n",
    "\n",
    "classifier = DecisionTreeClassifier(max_depth=8, criterion='entropy',max_leaf_nodes=20,min_samples_split=25, random_state=42) \n",
    "classifier.fit(X_train, y_train)\n",
    "predictions = classifier.predict(X_test)\n",
    "print(accuracy_score(y_true = y_test, y_pred = predictions))\n"
   ]
  },
  {
   "cell_type": "code",
   "execution_count": 166,
   "id": "185ead2b",
   "metadata": {},
   "outputs": [
    {
     "name": "stdout",
     "output_type": "stream",
     "text": [
      "0.8168333333333333\n",
      "0.8168333333333333\n"
     ]
    }
   ],
   "source": [
    "classifier = DecisionTreeClassifier(max_depth=8, criterion='entropy',max_leaf_nodes=10,min_samples_split=5, random_state=42) \n",
    "classifier.fit(X_train, y_train)\n",
    "predictions = classifier.predict(X_test)\n",
    "print(accuracy_score(y_true = y_test, y_pred = predictions))\n",
    "\n",
    "classifier = DecisionTreeClassifier(max_depth=8, criterion='entropy',max_leaf_nodes=10, random_state=42) \n",
    "classifier.fit(X_train, y_train)\n",
    "predictions = classifier.predict(X_test)\n",
    "print(accuracy_score(y_true = y_test, y_pred = predictions))"
   ]
  },
  {
   "cell_type": "code",
   "execution_count": 177,
   "id": "40279fe0",
   "metadata": {},
   "outputs": [],
   "source": [
    "## BEST MODEL for DecisionTreeClassifier"
   ]
  },
  {
   "cell_type": "code",
   "execution_count": 183,
   "id": "7f91627a",
   "metadata": {},
   "outputs": [
    {
     "name": "stdout",
     "output_type": "stream",
     "text": [
      "0.8186666666666667\n"
     ]
    }
   ],
   "source": [
    "decision_classifier = DecisionTreeClassifier(max_depth=8, criterion='gini',max_leaf_nodes=20, random_state=42) \n",
    "decision_classifier.fit(X_train, y_train)\n",
    "predictions = decision_classifier.predict(X_test)\n",
    "print(accuracy_score(y_true = y_test, y_pred = predictions))"
   ]
  },
  {
   "cell_type": "code",
   "execution_count": 176,
   "id": "f29c7225",
   "metadata": {},
   "outputs": [
    {
     "name": "stdout",
     "output_type": "stream",
     "text": [
      "0.8171666666666667\n"
     ]
    }
   ],
   "source": [
    "classifier = DecisionTreeClassifier(max_depth=5, criterion='gini', random_state=42) \n",
    "classifier.fit(X_train, y_train)\n",
    "predictions = classifier.predict(X_test)\n",
    "print(accuracy_score(y_true = y_test, y_pred = predictions))"
   ]
  },
  {
   "cell_type": "code",
   "execution_count": 179,
   "id": "6cc045d4",
   "metadata": {},
   "outputs": [],
   "source": [
    "scaler = StandardScaler()\n",
    "\n",
    "X_train_scaled = scaler.fit_transform(X_train)\n",
    "X_test_scaled = scaler.transform(X_test)"
   ]
  },
  {
   "cell_type": "code",
   "execution_count": 180,
   "id": "452f8aa5",
   "metadata": {},
   "outputs": [
    {
     "name": "stdout",
     "output_type": "stream",
     "text": [
      "0.8186666666666667\n"
     ]
    }
   ],
   "source": [
    "classifier = DecisionTreeClassifier(max_depth=8, criterion='gini',max_leaf_nodes=20, random_state=42) \n",
    "classifier.fit(X_train_scaled, y_train)\n",
    "predictions = classifier.predict(X_test_scaled)\n",
    "print(accuracy_score(y_true = y_test, y_pred = predictions))"
   ]
  },
  {
   "cell_type": "code",
   "execution_count": 182,
   "id": "6456d166",
   "metadata": {},
   "outputs": [],
   "source": [
    "# STANDARDSCALER MAKING NO DIFFERENCE AT ALL"
   ]
  },
  {
   "cell_type": "markdown",
   "id": "0ebab898",
   "metadata": {},
   "source": [
    "# RandomForestClassifier"
   ]
  },
  {
   "cell_type": "code",
   "execution_count": 184,
   "id": "3ae9d6bf",
   "metadata": {},
   "outputs": [],
   "source": [
    "from sklearn.ensemble import RandomForestClassifier"
   ]
  },
  {
   "cell_type": "code",
   "execution_count": 196,
   "id": "6bdec759",
   "metadata": {},
   "outputs": [
    {
     "name": "stdout",
     "output_type": "stream",
     "text": [
      "0.8125\n"
     ]
    }
   ],
   "source": [
    "classifier = RandomForestClassifier(n_estimators = 100, criterion = 'entropy', random_state = 42)\n",
    "classifier.fit(X_train_scaled, y_train)\n",
    "predictions = classifier.predict(X_test_scaled)\n",
    "print(accuracy_score(y_true = y_test, y_pred = predictions))"
   ]
  },
  {
   "cell_type": "code",
   "execution_count": 201,
   "id": "5df3935e",
   "metadata": {},
   "outputs": [
    {
     "name": "stdout",
     "output_type": "stream",
     "text": [
      "0.8125\n"
     ]
    }
   ],
   "source": [
    "classifier = RandomForestClassifier(n_estimators = 100, criterion = 'entropy', random_state = 42)\n",
    "classifier.fit(X_train, y_train)\n",
    "predictions = classifier.predict(X_test)\n",
    "print(accuracy_score(y_true = y_test, y_pred = predictions))"
   ]
  },
  {
   "cell_type": "code",
   "execution_count": 193,
   "id": "48752d16",
   "metadata": {},
   "outputs": [
    {
     "name": "stdout",
     "output_type": "stream",
     "text": [
      "0.805\n"
     ]
    }
   ],
   "source": [
    "classifier = RandomForestClassifier(n_estimators = 10, criterion = 'entropy', random_state = 42)\n",
    "classifier.fit(X_train, y_train)\n",
    "predictions = classifier.predict(X_test)\n",
    "print(accuracy_score(y_true = y_test, y_pred = predictions))"
   ]
  },
  {
   "cell_type": "code",
   "execution_count": 194,
   "id": "b96fd92a",
   "metadata": {},
   "outputs": [
    {
     "name": "stdout",
     "output_type": "stream",
     "text": [
      "0.8046666666666666\n"
     ]
    }
   ],
   "source": [
    "classifier = RandomForestClassifier(n_estimators = 10, criterion = 'entropy', random_state = 42)\n",
    "classifier.fit(X_train_scaled, y_train)\n",
    "predictions = classifier.predict(X_test_scaled)\n",
    "print(accuracy_score(y_true = y_test, y_pred = predictions))"
   ]
  },
  {
   "cell_type": "code",
   "execution_count": 188,
   "id": "2c004e7d",
   "metadata": {},
   "outputs": [],
   "source": [
    "# param_grid = {\n",
    "#     'n_estimators': [50, 100, 150],           # Number of trees in the forest\n",
    "#     'criterion': ['gini', 'entropy'],         # Split criterion\n",
    "#     'max_depth': [None, 10, 20],              # Maximum depth of the tree\n",
    "#     'min_samples_split': [2, 5, 10],          # Minimum number of samples required to split an internal node\n",
    "#     'min_samples_leaf': [1, 2, 4],            # Minimum number of samples required to be at a leaf node\n",
    "#     'max_features': ['auto', 'sqrt']          # Number of features to consider when looking for the best split\n",
    "# }"
   ]
  },
  {
   "cell_type": "code",
   "execution_count": 195,
   "id": "e7b2773a",
   "metadata": {},
   "outputs": [
    {
     "name": "stdout",
     "output_type": "stream",
     "text": [
      "0.8111666666666667\n"
     ]
    }
   ],
   "source": [
    "classifier = RandomForestClassifier(n_estimators = 50, criterion = 'entropy', random_state = 42)\n",
    "classifier.fit(X_train_scaled, y_train)\n",
    "predictions = classifier.predict(X_test_scaled)\n",
    "print(accuracy_score(y_true = y_test, y_pred = predictions))"
   ]
  },
  {
   "cell_type": "code",
   "execution_count": 198,
   "id": "74822187",
   "metadata": {},
   "outputs": [
    {
     "name": "stdout",
     "output_type": "stream",
     "text": [
      "0.8133333333333334\n"
     ]
    }
   ],
   "source": [
    "classifier = RandomForestClassifier(n_estimators = 100, criterion = 'gini', random_state = 42)\n",
    "classifier.fit(X_train_scaled, y_train)\n",
    "predictions = classifier.predict(X_test_scaled)\n",
    "print(accuracy_score(y_true = y_test, y_pred = predictions))"
   ]
  },
  {
   "cell_type": "code",
   "execution_count": 205,
   "id": "0ba8fcbd",
   "metadata": {},
   "outputs": [],
   "source": [
    "# Best Performer :"
   ]
  },
  {
   "cell_type": "code",
   "execution_count": 203,
   "id": "15144e87",
   "metadata": {},
   "outputs": [
    {
     "name": "stdout",
     "output_type": "stream",
     "text": [
      "0.8178333333333333\n"
     ]
    }
   ],
   "source": [
    "randomForest_classifier = RandomForestClassifier(n_estimators = 100, max_depth=20, criterion = 'gini', random_state = 42)\n",
    "randomForest_classifier.fit(X_train, y_train)\n",
    "predictions = randomForest_classifier.predict(X_test)\n",
    "print(accuracy_score(y_true = y_test, y_pred = predictions))"
   ]
  },
  {
   "cell_type": "code",
   "execution_count": 204,
   "id": "d35e7108",
   "metadata": {},
   "outputs": [
    {
     "name": "stdout",
     "output_type": "stream",
     "text": [
      "0.8143333333333334\n"
     ]
    }
   ],
   "source": [
    "classifier = RandomForestClassifier(n_estimators = 100, max_depth=20, criterion = 'gini', min_samples_leaf=4, random_state = 42)\n",
    "classifier.fit(X_train, y_train)\n",
    "predictions = classifier.predict(X_test)\n",
    "print(accuracy_score(y_true = y_test, y_pred = predictions))"
   ]
  },
  {
   "cell_type": "markdown",
   "id": "48a1fe5d",
   "metadata": {},
   "source": [
    "# CLASSIFICATION PROBLEMS:"
   ]
  },
  {
   "cell_type": "code",
   "execution_count": 242,
   "id": "ed24d3de",
   "metadata": {},
   "outputs": [],
   "source": [
    "# LogisticRegression"
   ]
  },
  {
   "cell_type": "code",
   "execution_count": 217,
   "id": "90677418",
   "metadata": {},
   "outputs": [],
   "source": [
    "from sklearn.linear_model import LogisticRegression"
   ]
  },
  {
   "cell_type": "code",
   "execution_count": 228,
   "id": "3773c6cb",
   "metadata": {},
   "outputs": [],
   "source": [
    "# param_grid = {\n",
    "#     'penalty': ['l1', 'l2'],               # Regularization penalty (L1 or L2)\n",
    "#     'C': [0.001, 0.01, 0.1, 1, 10, 100],   # Inverse of regularization strength\n",
    "#     'solver': ['liblinear', 'saga']        # Solver algorithm for optimization\n",
    "# }"
   ]
  },
  {
   "cell_type": "code",
   "execution_count": 241,
   "id": "04abf912",
   "metadata": {},
   "outputs": [
    {
     "name": "stdout",
     "output_type": "stream",
     "text": [
      "0.8023333333333333\n",
      "0.807\n",
      "0.8078333333333333\n",
      "0.8078333333333333\n",
      "0.8078333333333333\n",
      "0.808\n"
     ]
    }
   ],
   "source": [
    "classifier = LogisticRegression(random_state = 42,penalty='l2',C=0.001,solver='lbfgs')\n",
    "classifier.fit(X_train_scaled, y_train)\n",
    "predictions = classifier.predict(X_test_scaled)\n",
    "print(accuracy_score(y_true = y_test, y_pred = predictions))\n",
    "\n",
    "classifier = LogisticRegression(random_state = 42,penalty='l2',C=0.01,solver='lbfgs')\n",
    "classifier.fit(X_train_scaled, y_train)\n",
    "predictions = classifier.predict(X_test_scaled)\n",
    "print(accuracy_score(y_true = y_test, y_pred = predictions))\n",
    "\n",
    "classifier = LogisticRegression(random_state = 42,penalty='l2',C=0.1,solver='lbfgs')\n",
    "classifier.fit(X_train_scaled, y_train)\n",
    "predictions = classifier.predict(X_test_scaled)\n",
    "print(accuracy_score(y_true = y_test, y_pred = predictions))\n",
    "\n",
    "classifier = LogisticRegression(random_state = 42,penalty='l2',C=1,solver='lbfgs')\n",
    "classifier.fit(X_train_scaled, y_train)\n",
    "predictions = classifier.predict(X_test_scaled)\n",
    "print(accuracy_score(y_true = y_test, y_pred = predictions))\n",
    "\n",
    "classifier = LogisticRegression(random_state = 42,penalty='l2',C=10,solver='lbfgs')\n",
    "classifier.fit(X_train_scaled, y_train)\n",
    "predictions = classifier.predict(X_test_scaled)\n",
    "print(accuracy_score(y_true = y_test, y_pred = predictions))\n",
    "\n",
    "\n",
    "#BEST FIT\n",
    "logisticRegression_classifier = LogisticRegression(random_state = 42,penalty='l2',C=100,solver='lbfgs')\n",
    "logisticRegression_classifier.fit(X_train_scaled, y_train)\n",
    "predictions = logisticRegression_classifier.predict(X_test_scaled)\n",
    "print(accuracy_score(y_true = y_test, y_pred = predictions))"
   ]
  },
  {
   "cell_type": "code",
   "execution_count": 240,
   "id": "1505a1d9",
   "metadata": {},
   "outputs": [
    {
     "name": "stdout",
     "output_type": "stream",
     "text": [
      "0.787\n",
      "0.8066666666666666\n",
      "0.8076666666666666\n",
      "0.8078333333333333\n",
      "0.8078333333333333\n",
      "0.8078333333333333\n"
     ]
    }
   ],
   "source": [
    "classifier = LogisticRegression(random_state = 42,penalty='l1',C=0.001,solver='liblinear')\n",
    "classifier.fit(X_train_scaled, y_train)\n",
    "predictions = classifier.predict(X_test_scaled)\n",
    "print(accuracy_score(y_true = y_test, y_pred = predictions))\n",
    "\n",
    "classifier = LogisticRegression(random_state = 42,penalty='l1',C=0.01,solver='liblinear')\n",
    "classifier.fit(X_train_scaled, y_train)\n",
    "predictions = classifier.predict(X_test_scaled)\n",
    "print(accuracy_score(y_true = y_test, y_pred = predictions))\n",
    "\n",
    "classifier = LogisticRegression(random_state = 42,penalty='l1',C=0.1,solver='liblinear')\n",
    "classifier.fit(X_train_scaled, y_train)\n",
    "predictions = classifier.predict(X_test_scaled)\n",
    "print(accuracy_score(y_true = y_test, y_pred = predictions))\n",
    "\n",
    "classifier = LogisticRegression(random_state = 42,penalty='l1',C=1,solver='liblinear')\n",
    "classifier.fit(X_train_scaled, y_train)\n",
    "predictions = classifier.predict(X_test_scaled)\n",
    "print(accuracy_score(y_true = y_test, y_pred = predictions))\n",
    "\n",
    "classifier = LogisticRegression(random_state = 42,penalty='l1',C=10,solver='liblinear')\n",
    "classifier.fit(X_train_scaled, y_train)\n",
    "predictions = classifier.predict(X_test_scaled)\n",
    "print(accuracy_score(y_true = y_test, y_pred = predictions))\n",
    "\n",
    "classifier = LogisticRegression(random_state = 42,penalty='l1',C=100,solver='liblinear')\n",
    "classifier.fit(X_train_scaled, y_train)\n",
    "predictions = classifier.predict(X_test_scaled)\n",
    "print(accuracy_score(y_true = y_test, y_pred = predictions))"
   ]
  },
  {
   "cell_type": "code",
   "execution_count": 244,
   "id": "c37051f3",
   "metadata": {},
   "outputs": [],
   "source": [
    "# SVC"
   ]
  },
  {
   "cell_type": "code",
   "execution_count": 245,
   "id": "f64db57f",
   "metadata": {},
   "outputs": [],
   "source": [
    "from sklearn.svm import SVC"
   ]
  },
  {
   "cell_type": "code",
   "execution_count": 247,
   "id": "a34d009a",
   "metadata": {},
   "outputs": [],
   "source": [
    "# param_grid = {\n",
    "#     'C': [0.1, 1, 10],                   # Regularization parameter\n",
    "#     'kernel': ['linear', 'rbf', 'sigmoid'],   # Kernel type\n",
    "#     'gamma': ['scale', 'auto', 0.1, 1]    # Kernel coefficient for 'rbf' and 'sigmoid'\n",
    "# }"
   ]
  },
  {
   "cell_type": "code",
   "execution_count": 248,
   "id": "eaef3966",
   "metadata": {},
   "outputs": [
    {
     "name": "stdout",
     "output_type": "stream",
     "text": [
      "0.8163333333333334\n"
     ]
    }
   ],
   "source": [
    "classifier = SVC(kernel='rbf',C=1.0,gamma='scale')\n",
    "classifier.fit(X_train_scaled, y_train)\n",
    "predictions = classifier.predict(X_test_scaled)\n",
    "print(accuracy_score(y_true = y_test, y_pred = predictions))"
   ]
  },
  {
   "cell_type": "code",
   "execution_count": 249,
   "id": "1f20f0e6",
   "metadata": {},
   "outputs": [
    {
     "name": "stdout",
     "output_type": "stream",
     "text": [
      "0.808\n"
     ]
    }
   ],
   "source": [
    "classifier = SVC(kernel='linear',C=1.0,gamma='scale')\n",
    "classifier.fit(X_train_scaled, y_train)\n",
    "predictions = classifier.predict(X_test_scaled)\n",
    "print(accuracy_score(y_true = y_test, y_pred = predictions))"
   ]
  },
  {
   "cell_type": "code",
   "execution_count": 250,
   "id": "70522187",
   "metadata": {},
   "outputs": [
    {
     "name": "stdout",
     "output_type": "stream",
     "text": [
      "0.6963333333333334\n"
     ]
    }
   ],
   "source": [
    "classifier = SVC(kernel='sigmoid',C=1.0,gamma='scale')\n",
    "classifier.fit(X_train_scaled, y_train)\n",
    "predictions = classifier.predict(X_test_scaled)\n",
    "print(accuracy_score(y_true = y_test, y_pred = predictions))"
   ]
  },
  {
   "cell_type": "markdown",
   "id": "12dc1efb",
   "metadata": {},
   "source": [
    "# BOOSTERS:"
   ]
  },
  {
   "cell_type": "code",
   "execution_count": 221,
   "id": "43ff6f24",
   "metadata": {},
   "outputs": [],
   "source": [
    "from sklearn.ensemble import AdaBoostClassifier\n",
    "from xgboost import XGBClassifier"
   ]
  },
  {
   "cell_type": "code",
   "execution_count": 215,
   "id": "ff82ec97",
   "metadata": {},
   "outputs": [],
   "source": [
    "# ADABOOST"
   ]
  },
  {
   "cell_type": "code",
   "execution_count": 211,
   "id": "6e37dc49",
   "metadata": {},
   "outputs": [
    {
     "name": "stdout",
     "output_type": "stream",
     "text": [
      "0.8163333333333334\n"
     ]
    }
   ],
   "source": [
    "classifier = AdaBoostClassifier(random_state=42,\n",
    "                         algorithm='SAMME.R',\n",
    "                         learning_rate=1,\n",
    "                             n_estimators=5)\n",
    "classifier.fit(X_train, y_train)\n",
    "predictions = classifier.predict(X_test)\n",
    "print(accuracy_score(y_true = y_test, y_pred = predictions))"
   ]
  },
  {
   "cell_type": "code",
   "execution_count": 208,
   "id": "6215ac74",
   "metadata": {},
   "outputs": [
    {
     "name": "stdout",
     "output_type": "stream",
     "text": [
      "0.8191666666666667\n"
     ]
    }
   ],
   "source": [
    "classifier = AdaBoostClassifier(random_state=42,\n",
    "                         algorithm='SAMME.R',\n",
    "                         learning_rate=0.8,\n",
    "                             n_estimators=5)\n",
    "classifier.fit(X_train, y_train)\n",
    "predictions = classifier.predict(X_test)\n",
    "print(accuracy_score(y_true = y_test, y_pred = predictions))"
   ]
  },
  {
   "cell_type": "code",
   "execution_count": 209,
   "id": "f5367e14",
   "metadata": {},
   "outputs": [
    {
     "name": "stdout",
     "output_type": "stream",
     "text": [
      "0.8191666666666667\n"
     ]
    }
   ],
   "source": [
    "classifier = AdaBoostClassifier(random_state=42,\n",
    "                         algorithm='SAMME',\n",
    "                         learning_rate=0.8,\n",
    "                             n_estimators=5)\n",
    "classifier.fit(X_train, y_train)\n",
    "predictions = classifier.predict(X_test)\n",
    "print(accuracy_score(y_true = y_test, y_pred = predictions))"
   ]
  },
  {
   "cell_type": "code",
   "execution_count": 210,
   "id": "47b36151",
   "metadata": {},
   "outputs": [
    {
     "name": "stdout",
     "output_type": "stream",
     "text": [
      "0.8191666666666667\n"
     ]
    }
   ],
   "source": [
    "classifier = AdaBoostClassifier(random_state=42,\n",
    "                         algorithm='SAMME.R',\n",
    "                         learning_rate=0.1,\n",
    "                             n_estimators=5)\n",
    "classifier.fit(X_train, y_train)\n",
    "predictions = classifier.predict(X_test)\n",
    "print(accuracy_score(y_true = y_test, y_pred = predictions))"
   ]
  },
  {
   "cell_type": "code",
   "execution_count": 212,
   "id": "d643ab85",
   "metadata": {},
   "outputs": [
    {
     "name": "stdout",
     "output_type": "stream",
     "text": [
      "0.8191666666666667\n"
     ]
    }
   ],
   "source": [
    "classifier = AdaBoostClassifier(random_state=42,\n",
    "                         algorithm='SAMME.R',\n",
    "                         learning_rate=0.01,\n",
    "                             n_estimators=5)\n",
    "classifier.fit(X_train, y_train)\n",
    "predictions = classifier.predict(X_test)\n",
    "print(accuracy_score(y_true = y_test, y_pred = predictions))"
   ]
  },
  {
   "cell_type": "code",
   "execution_count": 213,
   "id": "98fecd67",
   "metadata": {},
   "outputs": [
    {
     "name": "stdout",
     "output_type": "stream",
     "text": [
      "0.8171666666666667\n"
     ]
    }
   ],
   "source": [
    "classifier = AdaBoostClassifier(random_state=42,\n",
    "                         algorithm='SAMME.R',\n",
    "                         learning_rate=0.8,\n",
    "                             n_estimators=50)\n",
    "classifier.fit(X_train, y_train)\n",
    "predictions = classifier.predict(X_test)\n",
    "print(accuracy_score(y_true = y_test, y_pred = predictions))"
   ]
  },
  {
   "cell_type": "code",
   "execution_count": 214,
   "id": "d2641558",
   "metadata": {},
   "outputs": [
    {
     "name": "stdout",
     "output_type": "stream",
     "text": [
      "0.8186666666666667\n"
     ]
    }
   ],
   "source": [
    "classifier = AdaBoostClassifier(random_state=42,\n",
    "                         algorithm='SAMME.R',\n",
    "                         learning_rate=0.8,\n",
    "                             n_estimators=10)\n",
    "classifier.fit(X_train, y_train)\n",
    "predictions = classifier.predict(X_test)\n",
    "print(accuracy_score(y_true = y_test, y_pred = predictions))"
   ]
  },
  {
   "cell_type": "code",
   "execution_count": 222,
   "id": "961a4cc8",
   "metadata": {},
   "outputs": [],
   "source": [
    "# xgboost"
   ]
  },
  {
   "cell_type": "code",
   "execution_count": 227,
   "id": "f3822f56",
   "metadata": {},
   "outputs": [
    {
     "name": "stdout",
     "output_type": "stream",
     "text": [
      "0.8141666666666667\n"
     ]
    }
   ],
   "source": [
    "xgb_classifier = XGBClassifier()\n",
    "xgb_classifier.fit(X_train, y_train)\n",
    "predictions = xgb_classifier.predict(X_test)\n",
    "print(accuracy_score(y_true = y_test, y_pred = predictions))"
   ]
  },
  {
   "cell_type": "code",
   "execution_count": 252,
   "id": "9234ade3",
   "metadata": {},
   "outputs": [],
   "source": [
    "# def feature_importance_plot(clf,):\n",
    "#     tmp = pd.DataFrame({'Feature': predictors_f, 'Feature importance': clf.feature_importances_})\n",
    "#     tmp = tmp.sort_values(by='Feature importance',ascending=False)\n",
    "#     plt.figure(figsize = (16,4))\n",
    "#     plt.title('Features importance',fontsize=14)\n",
    "#     s = sns.barplot(x='Feature',y='Feature importance',data=tmp)\n",
    "#     s.set_xticklabels(s.get_xticklabels(),rotation=90)\n",
    "#     plt.show()"
   ]
  },
  {
   "cell_type": "code",
   "execution_count": 253,
   "id": "69917c4b",
   "metadata": {},
   "outputs": [],
   "source": [
    "from sklearn.metrics import confusion_matrix, accuracy_score, classification_report"
   ]
  },
  {
   "cell_type": "code",
   "execution_count": 260,
   "id": "1adabd0c",
   "metadata": {},
   "outputs": [],
   "source": [
    "def plot_cm(y_test,y_pred):\n",
    "    cm = confusion_matrix(y_test, y_pred)\n",
    "    plt.figure(figsize=(8, 6))\n",
    "    sns.heatmap(cm, annot=True, fmt='d', cmap='Blues')\n",
    "    plt.xlabel('Predicted')\n",
    "    plt.ylabel('True')\n",
    "    plt.show()"
   ]
  },
  {
   "cell_type": "code",
   "execution_count": 259,
   "id": "89af4ddc",
   "metadata": {},
   "outputs": [
    {
     "name": "stdout",
     "output_type": "stream",
     "text": [
      "              precision    recall  f1-score   support\n",
      "\n",
      "           0       0.80      0.81      0.81      4673\n",
      "           1       0.31      0.30      0.30      1327\n",
      "\n",
      "    accuracy                           0.70      6000\n",
      "   macro avg       0.56      0.55      0.55      6000\n",
      "weighted avg       0.69      0.70      0.69      6000\n",
      "\n"
     ]
    }
   ],
   "source": [
    "print(classification_report(y_test, predictions))"
   ]
  }
 ],
 "metadata": {
  "kernelspec": {
   "display_name": "Python 3 (ipykernel)",
   "language": "python",
   "name": "python3"
  },
  "language_info": {
   "codemirror_mode": {
    "name": "ipython",
    "version": 3
   },
   "file_extension": ".py",
   "mimetype": "text/x-python",
   "name": "python",
   "nbconvert_exporter": "python",
   "pygments_lexer": "ipython3",
   "version": "3.8.13"
  }
 },
 "nbformat": 4,
 "nbformat_minor": 5
}
